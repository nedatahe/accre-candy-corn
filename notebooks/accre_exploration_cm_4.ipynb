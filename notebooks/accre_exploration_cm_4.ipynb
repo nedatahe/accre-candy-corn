{
 "cells": [
  {
   "cell_type": "code",
   "execution_count": 1,
   "id": "d864fb72",
   "metadata": {},
   "outputs": [],
   "source": [
    "import pandas as pd\n",
    "import numpy as np\n",
    "import matplotlib.pyplot as plt\n",
    "import seaborn as sns\n",
    "from pandas.api.types import CategoricalDtype"
   ]
  },
  {
   "cell_type": "code",
   "execution_count": 2,
   "id": "2fb7ff31",
   "metadata": {},
   "outputs": [],
   "source": [
    "# reading in combined ce5 and ce6 data\n",
    "logs = pd.read_csv('../data/logs_clean.csv')"
   ]
  },
  {
   "cell_type": "code",
   "execution_count": 3,
   "id": "3d62167c",
   "metadata": {},
   "outputs": [
    {
     "name": "stdout",
     "output_type": "stream",
     "text": [
      "<class 'pandas.core.frame.DataFrame'>\n",
      "RangeIndex: 9547413 entries, 0 to 9547412\n",
      "Data columns (total 11 columns):\n",
      " #   Column        Dtype  \n",
      "---  ------        -----  \n",
      " 0   TIME          object \n",
      " 1   USER          int64  \n",
      " 2   RETRY         int64  \n",
      " 3   TIMELAPSE     float64\n",
      " 4   RETURNCODE    int64  \n",
      " 5   COMMAND       object \n",
      " 6   SERVER        object \n",
      " 7   UNRESPONSIVE  bool   \n",
      " 8   TESTING       bool   \n",
      " 9   DAY           object \n",
      " 10  WEEKDAY       object \n",
      "dtypes: bool(2), float64(1), int64(3), object(5)\n",
      "memory usage: 673.8+ MB\n"
     ]
    }
   ],
   "source": [
    "logs.info()"
   ]
  },
  {
   "cell_type": "code",
   "execution_count": 8,
   "id": "658e7b22",
   "metadata": {},
   "outputs": [],
   "source": [
    "# setting the datatype of the date columns\n",
    "logs['TIME'] = logs['TIME'].astype('datetime64')\n",
    "logs['DAY'] = logs['TIME'].dt.date.astype('datetime64')"
   ]
  },
  {
   "cell_type": "code",
   "execution_count": null,
   "id": "508bd281",
   "metadata": {},
   "outputs": [],
   "source": [
    "#logs['WEEKDAY'] = logs['DAY'].dt.day_name()"
   ]
  },
  {
   "cell_type": "code",
   "execution_count": 4,
   "id": "95328793",
   "metadata": {},
   "outputs": [
    {
     "data": {
      "text/html": [
       "<div>\n",
       "<style scoped>\n",
       "    .dataframe tbody tr th:only-of-type {\n",
       "        vertical-align: middle;\n",
       "    }\n",
       "\n",
       "    .dataframe tbody tr th {\n",
       "        vertical-align: top;\n",
       "    }\n",
       "\n",
       "    .dataframe thead th {\n",
       "        text-align: right;\n",
       "    }\n",
       "</style>\n",
       "<table border=\"1\" class=\"dataframe\">\n",
       "  <thead>\n",
       "    <tr style=\"text-align: right;\">\n",
       "      <th></th>\n",
       "      <th>TIME</th>\n",
       "      <th>USER</th>\n",
       "      <th>RETRY</th>\n",
       "      <th>TIMELAPSE</th>\n",
       "      <th>RETURNCODE</th>\n",
       "      <th>COMMAND</th>\n",
       "      <th>SERVER</th>\n",
       "      <th>UNRESPONSIVE</th>\n",
       "      <th>TESTING</th>\n",
       "      <th>DAY</th>\n",
       "      <th>WEEKDAY</th>\n",
       "    </tr>\n",
       "  </thead>\n",
       "  <tbody>\n",
       "    <tr>\n",
       "      <th>0</th>\n",
       "      <td>2020-10-16 08:15:39.278699</td>\n",
       "      <td>0</td>\n",
       "      <td>0</td>\n",
       "      <td>0.073476</td>\n",
       "      <td>0</td>\n",
       "      <td>sacct</td>\n",
       "      <td>ce5</td>\n",
       "      <td>False</td>\n",
       "      <td>False</td>\n",
       "      <td>2020-10-16 00:00:00.000000</td>\n",
       "      <td>Friday</td>\n",
       "    </tr>\n",
       "    <tr>\n",
       "      <th>1</th>\n",
       "      <td>2020-10-16 08:18:08.313309</td>\n",
       "      <td>0</td>\n",
       "      <td>0</td>\n",
       "      <td>0.183632</td>\n",
       "      <td>0</td>\n",
       "      <td>sacct</td>\n",
       "      <td>ce5</td>\n",
       "      <td>False</td>\n",
       "      <td>False</td>\n",
       "      <td>2020-10-16 00:00:00.000000</td>\n",
       "      <td>Friday</td>\n",
       "    </tr>\n",
       "    <tr>\n",
       "      <th>2</th>\n",
       "      <td>2020-10-16 08:22:48.128689</td>\n",
       "      <td>0</td>\n",
       "      <td>0</td>\n",
       "      <td>0.075471</td>\n",
       "      <td>0</td>\n",
       "      <td>sacct</td>\n",
       "      <td>ce5</td>\n",
       "      <td>False</td>\n",
       "      <td>False</td>\n",
       "      <td>2020-10-16 00:00:00.000000</td>\n",
       "      <td>Friday</td>\n",
       "    </tr>\n",
       "    <tr>\n",
       "      <th>3</th>\n",
       "      <td>2020-10-16 08:25:13.257408</td>\n",
       "      <td>0</td>\n",
       "      <td>0</td>\n",
       "      <td>0.094844</td>\n",
       "      <td>0</td>\n",
       "      <td>sacct</td>\n",
       "      <td>ce5</td>\n",
       "      <td>False</td>\n",
       "      <td>False</td>\n",
       "      <td>2020-10-16 00:00:00.000000</td>\n",
       "      <td>Friday</td>\n",
       "    </tr>\n",
       "    <tr>\n",
       "      <th>4</th>\n",
       "      <td>2020-10-16 08:31:01.460723</td>\n",
       "      <td>0</td>\n",
       "      <td>0</td>\n",
       "      <td>0.074988</td>\n",
       "      <td>0</td>\n",
       "      <td>sacct</td>\n",
       "      <td>ce5</td>\n",
       "      <td>False</td>\n",
       "      <td>False</td>\n",
       "      <td>2020-10-16 00:00:00.000000</td>\n",
       "      <td>Friday</td>\n",
       "    </tr>\n",
       "  </tbody>\n",
       "</table>\n",
       "</div>"
      ],
      "text/plain": [
       "                         TIME  USER  RETRY  TIMELAPSE  RETURNCODE COMMAND  \\\n",
       "0  2020-10-16 08:15:39.278699     0      0   0.073476           0   sacct   \n",
       "1  2020-10-16 08:18:08.313309     0      0   0.183632           0   sacct   \n",
       "2  2020-10-16 08:22:48.128689     0      0   0.075471           0   sacct   \n",
       "3  2020-10-16 08:25:13.257408     0      0   0.094844           0   sacct   \n",
       "4  2020-10-16 08:31:01.460723     0      0   0.074988           0   sacct   \n",
       "\n",
       "  SERVER  UNRESPONSIVE  TESTING                         DAY WEEKDAY  \n",
       "0    ce5         False    False  2020-10-16 00:00:00.000000  Friday  \n",
       "1    ce5         False    False  2020-10-16 00:00:00.000000  Friday  \n",
       "2    ce5         False    False  2020-10-16 00:00:00.000000  Friday  \n",
       "3    ce5         False    False  2020-10-16 00:00:00.000000  Friday  \n",
       "4    ce5         False    False  2020-10-16 00:00:00.000000  Friday  "
      ]
     },
     "execution_count": 4,
     "metadata": {},
     "output_type": "execute_result"
    }
   ],
   "source": [
    "logs.head()"
   ]
  },
  {
   "cell_type": "code",
   "execution_count": 10,
   "id": "f0b4ccc1",
   "metadata": {},
   "outputs": [],
   "source": [
    "# making a dataframe of the logs that are unresponsive\n",
    "unresponsive = logs[logs['UNRESPONSIVE'] == True]"
   ]
  },
  {
   "cell_type": "code",
   "execution_count": 11,
   "id": "44319308",
   "metadata": {},
   "outputs": [
    {
     "name": "stderr",
     "output_type": "stream",
     "text": [
      "C:\\Users\\sarei\\AppData\\Local\\Temp/ipykernel_13608/3466814704.py:1: SettingWithCopyWarning: \n",
      "A value is trying to be set on a copy of a slice from a DataFrame.\n",
      "Try using .loc[row_indexer,col_indexer] = value instead\n",
      "\n",
      "See the caveats in the documentation: https://pandas.pydata.org/pandas-docs/stable/user_guide/indexing.html#returning-a-view-versus-a-copy\n",
      "  unresponsive['WEEKDAY'] = pd.Categorical(unresponsive['WEEKDAY'], ['Monday',\n"
     ]
    }
   ],
   "source": [
    "# making it so pandas recognizes the weekday column as categorical\n",
    "unresponsive['WEEKDAY'] = pd.Categorical(unresponsive['WEEKDAY'], ['Monday',\n",
    "                                                                   'Tuesday',\n",
    "                                                                   'Wednesday',\n",
    "                                                                   'Thursday',\n",
    "                                                                   'Friday', \n",
    "                                                                   'Saturday',\n",
    "                                                                   'Sunday'])"
   ]
  },
  {
   "cell_type": "code",
   "execution_count": null,
   "id": "6a7a8181",
   "metadata": {},
   "outputs": [],
   "source": [
    "#  logs.to_csv('../data/logs_clean.csv',\n",
    "#             index = False)"
   ]
  },
  {
   "cell_type": "code",
   "execution_count": null,
   "id": "71cdaa30",
   "metadata": {},
   "outputs": [],
   "source": [
    "#  unresponsive.to_csv('../data/unresponsive.csv',\n",
    "#                     index = False)"
   ]
  },
  {
   "cell_type": "code",
   "execution_count": 12,
   "id": "45914cb7",
   "metadata": {},
   "outputs": [
    {
     "name": "stderr",
     "output_type": "stream",
     "text": [
      "C:\\Users\\sarei\\AppData\\Local\\Temp/ipykernel_13608/1085098614.py:1: SettingWithCopyWarning: \n",
      "A value is trying to be set on a copy of a slice from a DataFrame.\n",
      "Try using .loc[row_indexer,col_indexer] = value instead\n",
      "\n",
      "See the caveats in the documentation: https://pandas.pydata.org/pandas-docs/stable/user_guide/indexing.html#returning-a-view-versus-a-copy\n",
      "  unresponsive['ROLL1D'] = (unresponsive\n"
     ]
    },
    {
     "data": {
      "text/html": [
       "<div>\n",
       "<style scoped>\n",
       "    .dataframe tbody tr th:only-of-type {\n",
       "        vertical-align: middle;\n",
       "    }\n",
       "\n",
       "    .dataframe tbody tr th {\n",
       "        vertical-align: top;\n",
       "    }\n",
       "\n",
       "    .dataframe thead th {\n",
       "        text-align: right;\n",
       "    }\n",
       "</style>\n",
       "<table border=\"1\" class=\"dataframe\">\n",
       "  <thead>\n",
       "    <tr style=\"text-align: right;\">\n",
       "      <th></th>\n",
       "      <th>TIME</th>\n",
       "      <th>USER</th>\n",
       "      <th>RETRY</th>\n",
       "      <th>TIMELAPSE</th>\n",
       "      <th>RETURNCODE</th>\n",
       "      <th>COMMAND</th>\n",
       "      <th>SERVER</th>\n",
       "      <th>UNRESPONSIVE</th>\n",
       "      <th>TESTING</th>\n",
       "      <th>DAY</th>\n",
       "      <th>WEEKDAY</th>\n",
       "      <th>ROLL1D</th>\n",
       "    </tr>\n",
       "  </thead>\n",
       "  <tbody>\n",
       "    <tr>\n",
       "      <th>4396</th>\n",
       "      <td>2020-10-16 11:43:45.753267</td>\n",
       "      <td>9201</td>\n",
       "      <td>0</td>\n",
       "      <td>20.150959</td>\n",
       "      <td>1</td>\n",
       "      <td>sbatch</td>\n",
       "      <td>ce5</td>\n",
       "      <td>True</td>\n",
       "      <td>False</td>\n",
       "      <td>2020-10-16</td>\n",
       "      <td>Friday</td>\n",
       "      <td>1.0</td>\n",
       "    </tr>\n",
       "    <tr>\n",
       "      <th>4397</th>\n",
       "      <td>2020-10-16 11:43:45.920205</td>\n",
       "      <td>9201</td>\n",
       "      <td>0</td>\n",
       "      <td>20.218138</td>\n",
       "      <td>1</td>\n",
       "      <td>sbatch</td>\n",
       "      <td>ce5</td>\n",
       "      <td>True</td>\n",
       "      <td>False</td>\n",
       "      <td>2020-10-16</td>\n",
       "      <td>Friday</td>\n",
       "      <td>2.0</td>\n",
       "    </tr>\n",
       "    <tr>\n",
       "      <th>4398</th>\n",
       "      <td>2020-10-16 11:43:45.939591</td>\n",
       "      <td>9201</td>\n",
       "      <td>0</td>\n",
       "      <td>20.188296</td>\n",
       "      <td>1</td>\n",
       "      <td>sbatch</td>\n",
       "      <td>ce5</td>\n",
       "      <td>True</td>\n",
       "      <td>False</td>\n",
       "      <td>2020-10-16</td>\n",
       "      <td>Friday</td>\n",
       "      <td>3.0</td>\n",
       "    </tr>\n",
       "    <tr>\n",
       "      <th>4399</th>\n",
       "      <td>2020-10-16 11:43:46.119672</td>\n",
       "      <td>9201</td>\n",
       "      <td>0</td>\n",
       "      <td>20.114305</td>\n",
       "      <td>1</td>\n",
       "      <td>sbatch</td>\n",
       "      <td>ce5</td>\n",
       "      <td>True</td>\n",
       "      <td>False</td>\n",
       "      <td>2020-10-16</td>\n",
       "      <td>Friday</td>\n",
       "      <td>4.0</td>\n",
       "    </tr>\n",
       "    <tr>\n",
       "      <th>4400</th>\n",
       "      <td>2020-10-16 11:43:46.380161</td>\n",
       "      <td>9202</td>\n",
       "      <td>0</td>\n",
       "      <td>20.092560</td>\n",
       "      <td>1</td>\n",
       "      <td>sbatch</td>\n",
       "      <td>ce5</td>\n",
       "      <td>True</td>\n",
       "      <td>False</td>\n",
       "      <td>2020-10-16</td>\n",
       "      <td>Friday</td>\n",
       "      <td>5.0</td>\n",
       "    </tr>\n",
       "  </tbody>\n",
       "</table>\n",
       "</div>"
      ],
      "text/plain": [
       "                           TIME  USER  RETRY  TIMELAPSE  RETURNCODE COMMAND  \\\n",
       "4396 2020-10-16 11:43:45.753267  9201      0  20.150959           1  sbatch   \n",
       "4397 2020-10-16 11:43:45.920205  9201      0  20.218138           1  sbatch   \n",
       "4398 2020-10-16 11:43:45.939591  9201      0  20.188296           1  sbatch   \n",
       "4399 2020-10-16 11:43:46.119672  9201      0  20.114305           1  sbatch   \n",
       "4400 2020-10-16 11:43:46.380161  9202      0  20.092560           1  sbatch   \n",
       "\n",
       "     SERVER  UNRESPONSIVE  TESTING        DAY WEEKDAY  ROLL1D  \n",
       "4396    ce5          True    False 2020-10-16  Friday     1.0  \n",
       "4397    ce5          True    False 2020-10-16  Friday     2.0  \n",
       "4398    ce5          True    False 2020-10-16  Friday     3.0  \n",
       "4399    ce5          True    False 2020-10-16  Friday     4.0  \n",
       "4400    ce5          True    False 2020-10-16  Friday     5.0  "
      ]
     },
     "execution_count": 12,
     "metadata": {},
     "output_type": "execute_result"
    }
   ],
   "source": [
    "# finding the number of times a day the servers become unresponsive\n",
    "unresponsive['ROLL1D'] = (unresponsive\n",
    "                               .rolling('1d', on = 'DAY')['USER']\n",
    "                               .count())\n",
    "\n",
    "unresponsive.head()"
   ]
  },
  {
   "cell_type": "code",
   "execution_count": 13,
   "id": "a705cae8",
   "metadata": {},
   "outputs": [
    {
     "data": {
      "image/png": "[encoded data removed]",
      "text/plain": [
       "<Figure size 1080x576 with 1 Axes>"
      ]
     },
     "metadata": {
      "needs_background": "light"
     },
     "output_type": "display_data"
    }
   ],
   "source": [
    "# number times servers are unresponsive by day of the week (user 9204 not included)\n",
    "plt.figure(figsize = (15,8))\n",
    "\n",
    "sns.histplot(data = unresponsive,\n",
    "           x = 'WEEKDAY');"
   ]
  },
  {
   "cell_type": "code",
   "execution_count": 14,
   "id": "f081b3a1",
   "metadata": {},
   "outputs": [
    {
     "data": {
      "image/png": "[encoded data removed]",
      "text/plain": [
       "<Figure size 1080x576 with 1 Axes>"
      ]
     },
     "metadata": {
      "needs_background": "light"
     },
     "output_type": "display_data"
    }
   ],
   "source": [
    "# number times servers are unresponsive by day of the week (user 9204 included)\n",
    "plt.figure(figsize = (15,8))\n",
    "\n",
    "sns.histplot(data = unresponsive[unresponsive['TESTING'] == True],\n",
    "            x = 'WEEKDAY');"
   ]
  },
  {
   "cell_type": "code",
   "execution_count": 15,
   "id": "5540ed93",
   "metadata": {},
   "outputs": [
    {
     "data": {
      "image/png": "[encoded data removed]",
      "text/plain": [
       "<Figure size 1080x576 with 1 Axes>"
      ]
     },
     "metadata": {
      "needs_background": "light"
     },
     "output_type": "display_data"
    }
   ],
   "source": [
    "# box polts of times servers are unresponsive by day of the week (user 9204 not included)\n",
    "plt.figure(figsize = (15,8))\n",
    "\n",
    "sns.boxplot(data = unresponsive,\n",
    "           x = 'WEEKDAY',\n",
    "           y = 'ROLL1D');"
   ]
  },
  {
   "cell_type": "code",
   "execution_count": 16,
   "id": "65652691",
   "metadata": {},
   "outputs": [
    {
     "data": {
      "image/png": "[encoded data removed]",
      "text/plain": [
       "<Figure size 1080x576 with 1 Axes>"
      ]
     },
     "metadata": {
      "needs_background": "light"
     },
     "output_type": "display_data"
    }
   ],
   "source": [
    "# box plots of times servers are unresponsive by day of the week (user 9204 included)\n",
    "plt.figure(figsize = (15,8))\n",
    "\n",
    "sns.boxplot(data = unresponsive[unresponsive['TESTING'] == True],\n",
    "           x = 'WEEKDAY',\n",
    "           y = 'ROLL1D');"
   ]
  },
  {
   "cell_type": "code",
   "execution_count": 17,
   "id": "73de4f2e",
   "metadata": {},
   "outputs": [
    {
     "name": "stderr",
     "output_type": "stream",
     "text": [
      "C:\\Users\\sarei\\anaconda3\\lib\\site-packages\\IPython\\core\\interactiveshell.py:3441: DtypeWarning: Columns (14) have mixed types.Specify dtype option on import or set low_memory=False.\n",
      "  exec(code_obj, self.user_global_ns, self.user_ns)\n"
     ]
    }
   ],
   "source": [
    "# reading in jobs data\n",
    "jobs = pd.read_csv('../data/jobs-corrected_clean.csv',\n",
    "                  parse_dates = ['BEGIN', 'END'])"
   ]
  },
  {
   "cell_type": "code",
   "execution_count": 18,
   "id": "94eb9fdd",
   "metadata": {},
   "outputs": [],
   "source": [
    "# recalculating joblength to set data type to timedelta\n",
    "jobs['JOBLENGTH'] = jobs['END'] - jobs['BEGIN']"
   ]
  },
  {
   "cell_type": "code",
   "execution_count": 19,
   "id": "c06c6f82",
   "metadata": {},
   "outputs": [
    {
     "name": "stdout",
     "output_type": "stream",
     "text": [
      "<class 'pandas.core.frame.DataFrame'>\n",
      "RangeIndex: 7395885 entries, 0 to 7395884\n",
      "Data columns (total 15 columns):\n",
      " #   Column      Dtype          \n",
      "---  ------      -----          \n",
      " 0   JOBID       object         \n",
      " 1   STATE       object         \n",
      " 2   BEGIN       datetime64[ns] \n",
      " 3   END         datetime64[ns] \n",
      " 4   REQMEM      int64          \n",
      " 5   USEDMEM     object         \n",
      " 6   REQTIME     object         \n",
      " 7   USEDTIME    object         \n",
      " 8   NODES       int64          \n",
      " 9   CPUS        int64          \n",
      " 10  PARTITION   object         \n",
      " 11  EXITCODE    object         \n",
      " 12  JOBLENGTH   timedelta64[ns]\n",
      " 13  MEMPERUNIT  object         \n",
      " 14  REQMEMTOT   object         \n",
      "dtypes: datetime64[ns](2), int64(3), object(9), timedelta64[ns](1)\n",
      "memory usage: 846.4+ MB\n"
     ]
    }
   ],
   "source": [
    "jobs.info()"
   ]
  },
  {
   "cell_type": "code",
   "execution_count": 20,
   "id": "20f3ad45",
   "metadata": {},
   "outputs": [
    {
     "data": {
      "text/html": [
       "<div>\n",
       "<style scoped>\n",
       "    .dataframe tbody tr th:only-of-type {\n",
       "        vertical-align: middle;\n",
       "    }\n",
       "\n",
       "    .dataframe tbody tr th {\n",
       "        vertical-align: top;\n",
       "    }\n",
       "\n",
       "    .dataframe thead th {\n",
       "        text-align: right;\n",
       "    }\n",
       "</style>\n",
       "<table border=\"1\" class=\"dataframe\">\n",
       "  <thead>\n",
       "    <tr style=\"text-align: right;\">\n",
       "      <th></th>\n",
       "      <th>JOBID</th>\n",
       "      <th>STATE</th>\n",
       "      <th>BEGIN</th>\n",
       "      <th>END</th>\n",
       "      <th>REQMEM</th>\n",
       "      <th>USEDMEM</th>\n",
       "      <th>REQTIME</th>\n",
       "      <th>USEDTIME</th>\n",
       "      <th>NODES</th>\n",
       "      <th>CPUS</th>\n",
       "      <th>PARTITION</th>\n",
       "      <th>EXITCODE</th>\n",
       "      <th>JOBLENGTH</th>\n",
       "      <th>MEMPERUNIT</th>\n",
       "      <th>REQMEMTOT</th>\n",
       "    </tr>\n",
       "  </thead>\n",
       "  <tbody>\n",
       "    <tr>\n",
       "      <th>0</th>\n",
       "      <td>30616928</td>\n",
       "      <td>RUNNING</td>\n",
       "      <td>2021-07-31 22:15:00</td>\n",
       "      <td>NaT</td>\n",
       "      <td>2048</td>\n",
       "      <td>0</td>\n",
       "      <td>10:04:00</td>\n",
       "      <td>67-22:14:22</td>\n",
       "      <td>1</td>\n",
       "      <td>1</td>\n",
       "      <td>production</td>\n",
       "      <td>0:0</td>\n",
       "      <td>NaT</td>\n",
       "      <td>Mn</td>\n",
       "      <td>2048</td>\n",
       "    </tr>\n",
       "    <tr>\n",
       "      <th>1</th>\n",
       "      <td>30853133</td>\n",
       "      <td>COMPLETED</td>\n",
       "      <td>2021-08-06 11:36:09</td>\n",
       "      <td>2021-09-05 11:36:32</td>\n",
       "      <td>262144</td>\n",
       "      <td>20604.62M</td>\n",
       "      <td>30-00:00:00</td>\n",
       "      <td>30-00:00:23</td>\n",
       "      <td>1</td>\n",
       "      <td>1</td>\n",
       "      <td>cgw-platypus</td>\n",
       "      <td>0:0</td>\n",
       "      <td>30 days 00:00:23</td>\n",
       "      <td>Mn</td>\n",
       "      <td>262144</td>\n",
       "    </tr>\n",
       "    <tr>\n",
       "      <th>2</th>\n",
       "      <td>30858137</td>\n",
       "      <td>COMPLETED</td>\n",
       "      <td>2021-08-06 19:04:39</td>\n",
       "      <td>2021-09-05 19:04:53</td>\n",
       "      <td>204800</td>\n",
       "      <td>57553.77M</td>\n",
       "      <td>30-00:00:00</td>\n",
       "      <td>30-00:00:14</td>\n",
       "      <td>1</td>\n",
       "      <td>32</td>\n",
       "      <td>cgw-tbi01</td>\n",
       "      <td>0:0</td>\n",
       "      <td>30 days 00:00:14</td>\n",
       "      <td>Mn</td>\n",
       "      <td>204800</td>\n",
       "    </tr>\n",
       "    <tr>\n",
       "      <th>3</th>\n",
       "      <td>30935078</td>\n",
       "      <td>COMPLETED</td>\n",
       "      <td>2021-08-09 16:52:51</td>\n",
       "      <td>2021-09-07 20:52:55</td>\n",
       "      <td>65536</td>\n",
       "      <td>20577.96M</td>\n",
       "      <td>29-04:00:00</td>\n",
       "      <td>29-04:00:04</td>\n",
       "      <td>1</td>\n",
       "      <td>8</td>\n",
       "      <td>cgw-platypus</td>\n",
       "      <td>0:0</td>\n",
       "      <td>29 days 04:00:04</td>\n",
       "      <td>Mn</td>\n",
       "      <td>65536</td>\n",
       "    </tr>\n",
       "    <tr>\n",
       "      <th>4</th>\n",
       "      <td>31364111_2</td>\n",
       "      <td>COMPLETED</td>\n",
       "      <td>2021-08-17 07:45:07</td>\n",
       "      <td>2021-09-10 16:45:24</td>\n",
       "      <td>16384</td>\n",
       "      <td>9733.43M</td>\n",
       "      <td>24-09:00:00</td>\n",
       "      <td>24-09:00:17</td>\n",
       "      <td>1</td>\n",
       "      <td>1</td>\n",
       "      <td>production</td>\n",
       "      <td>0:0</td>\n",
       "      <td>24 days 09:00:17</td>\n",
       "      <td>Mn</td>\n",
       "      <td>16384</td>\n",
       "    </tr>\n",
       "  </tbody>\n",
       "</table>\n",
       "</div>"
      ],
      "text/plain": [
       "        JOBID      STATE               BEGIN                 END  REQMEM  \\\n",
       "0    30616928    RUNNING 2021-07-31 22:15:00                 NaT    2048   \n",
       "1    30853133  COMPLETED 2021-08-06 11:36:09 2021-09-05 11:36:32  262144   \n",
       "2    30858137  COMPLETED 2021-08-06 19:04:39 2021-09-05 19:04:53  204800   \n",
       "3    30935078  COMPLETED 2021-08-09 16:52:51 2021-09-07 20:52:55   65536   \n",
       "4  31364111_2  COMPLETED 2021-08-17 07:45:07 2021-09-10 16:45:24   16384   \n",
       "\n",
       "     USEDMEM      REQTIME     USEDTIME  NODES  CPUS     PARTITION EXITCODE  \\\n",
       "0          0     10:04:00  67-22:14:22      1     1    production      0:0   \n",
       "1  20604.62M  30-00:00:00  30-00:00:23      1     1  cgw-platypus      0:0   \n",
       "2  57553.77M  30-00:00:00  30-00:00:14      1    32     cgw-tbi01      0:0   \n",
       "3  20577.96M  29-04:00:00  29-04:00:04      1     8  cgw-platypus      0:0   \n",
       "4   9733.43M  24-09:00:00  24-09:00:17      1     1    production      0:0   \n",
       "\n",
       "         JOBLENGTH MEMPERUNIT REQMEMTOT  \n",
       "0              NaT         Mn      2048  \n",
       "1 30 days 00:00:23         Mn    262144  \n",
       "2 30 days 00:00:14         Mn    204800  \n",
       "3 29 days 04:00:04         Mn     65536  \n",
       "4 24 days 09:00:17         Mn     16384  "
      ]
     },
     "execution_count": 20,
     "metadata": {},
     "output_type": "execute_result"
    }
   ],
   "source": [
    "jobs.head()"
   ]
  },
  {
   "cell_type": "code",
   "execution_count": 21,
   "id": "a2e476c4",
   "metadata": {},
   "outputs": [],
   "source": [
    "# adding day of the week for the job start\n",
    "jobs['BEGINWEEKDAY'] = jobs['BEGIN'].dt.day_name()"
   ]
  },
  {
   "cell_type": "code",
   "execution_count": 22,
   "id": "c53ff0aa",
   "metadata": {},
   "outputs": [],
   "source": [
    "# adding day of the week for the job end\n",
    "jobs['ENDWEEKDAY'] = jobs['END'].dt.day_name()"
   ]
  },
  {
   "cell_type": "code",
   "execution_count": 23,
   "id": "93837238",
   "metadata": {},
   "outputs": [
    {
     "data": {
      "text/html": [
       "<div>\n",
       "<style scoped>\n",
       "    .dataframe tbody tr th:only-of-type {\n",
       "        vertical-align: middle;\n",
       "    }\n",
       "\n",
       "    .dataframe tbody tr th {\n",
       "        vertical-align: top;\n",
       "    }\n",
       "\n",
       "    .dataframe thead th {\n",
       "        text-align: right;\n",
       "    }\n",
       "</style>\n",
       "<table border=\"1\" class=\"dataframe\">\n",
       "  <thead>\n",
       "    <tr style=\"text-align: right;\">\n",
       "      <th></th>\n",
       "      <th>JOBID</th>\n",
       "      <th>STATE</th>\n",
       "      <th>BEGIN</th>\n",
       "      <th>END</th>\n",
       "      <th>REQMEM</th>\n",
       "      <th>USEDMEM</th>\n",
       "      <th>REQTIME</th>\n",
       "      <th>USEDTIME</th>\n",
       "      <th>NODES</th>\n",
       "      <th>CPUS</th>\n",
       "      <th>PARTITION</th>\n",
       "      <th>EXITCODE</th>\n",
       "      <th>JOBLENGTH</th>\n",
       "      <th>MEMPERUNIT</th>\n",
       "      <th>REQMEMTOT</th>\n",
       "      <th>BEGINWEEKDAY</th>\n",
       "      <th>ENDWEEKDAY</th>\n",
       "    </tr>\n",
       "  </thead>\n",
       "  <tbody>\n",
       "    <tr>\n",
       "      <th>0</th>\n",
       "      <td>30616928</td>\n",
       "      <td>RUNNING</td>\n",
       "      <td>2021-07-31 22:15:00</td>\n",
       "      <td>NaT</td>\n",
       "      <td>2048</td>\n",
       "      <td>0</td>\n",
       "      <td>10:04:00</td>\n",
       "      <td>67-22:14:22</td>\n",
       "      <td>1</td>\n",
       "      <td>1</td>\n",
       "      <td>production</td>\n",
       "      <td>0:0</td>\n",
       "      <td>NaT</td>\n",
       "      <td>Mn</td>\n",
       "      <td>2048</td>\n",
       "      <td>Saturday</td>\n",
       "      <td>NaN</td>\n",
       "    </tr>\n",
       "    <tr>\n",
       "      <th>1</th>\n",
       "      <td>30853133</td>\n",
       "      <td>COMPLETED</td>\n",
       "      <td>2021-08-06 11:36:09</td>\n",
       "      <td>2021-09-05 11:36:32</td>\n",
       "      <td>262144</td>\n",
       "      <td>20604.62M</td>\n",
       "      <td>30-00:00:00</td>\n",
       "      <td>30-00:00:23</td>\n",
       "      <td>1</td>\n",
       "      <td>1</td>\n",
       "      <td>cgw-platypus</td>\n",
       "      <td>0:0</td>\n",
       "      <td>30 days 00:00:23</td>\n",
       "      <td>Mn</td>\n",
       "      <td>262144</td>\n",
       "      <td>Friday</td>\n",
       "      <td>Sunday</td>\n",
       "    </tr>\n",
       "    <tr>\n",
       "      <th>2</th>\n",
       "      <td>30858137</td>\n",
       "      <td>COMPLETED</td>\n",
       "      <td>2021-08-06 19:04:39</td>\n",
       "      <td>2021-09-05 19:04:53</td>\n",
       "      <td>204800</td>\n",
       "      <td>57553.77M</td>\n",
       "      <td>30-00:00:00</td>\n",
       "      <td>30-00:00:14</td>\n",
       "      <td>1</td>\n",
       "      <td>32</td>\n",
       "      <td>cgw-tbi01</td>\n",
       "      <td>0:0</td>\n",
       "      <td>30 days 00:00:14</td>\n",
       "      <td>Mn</td>\n",
       "      <td>204800</td>\n",
       "      <td>Friday</td>\n",
       "      <td>Sunday</td>\n",
       "    </tr>\n",
       "    <tr>\n",
       "      <th>3</th>\n",
       "      <td>30935078</td>\n",
       "      <td>COMPLETED</td>\n",
       "      <td>2021-08-09 16:52:51</td>\n",
       "      <td>2021-09-07 20:52:55</td>\n",
       "      <td>65536</td>\n",
       "      <td>20577.96M</td>\n",
       "      <td>29-04:00:00</td>\n",
       "      <td>29-04:00:04</td>\n",
       "      <td>1</td>\n",
       "      <td>8</td>\n",
       "      <td>cgw-platypus</td>\n",
       "      <td>0:0</td>\n",
       "      <td>29 days 04:00:04</td>\n",
       "      <td>Mn</td>\n",
       "      <td>65536</td>\n",
       "      <td>Monday</td>\n",
       "      <td>Tuesday</td>\n",
       "    </tr>\n",
       "    <tr>\n",
       "      <th>4</th>\n",
       "      <td>31364111_2</td>\n",
       "      <td>COMPLETED</td>\n",
       "      <td>2021-08-17 07:45:07</td>\n",
       "      <td>2021-09-10 16:45:24</td>\n",
       "      <td>16384</td>\n",
       "      <td>9733.43M</td>\n",
       "      <td>24-09:00:00</td>\n",
       "      <td>24-09:00:17</td>\n",
       "      <td>1</td>\n",
       "      <td>1</td>\n",
       "      <td>production</td>\n",
       "      <td>0:0</td>\n",
       "      <td>24 days 09:00:17</td>\n",
       "      <td>Mn</td>\n",
       "      <td>16384</td>\n",
       "      <td>Tuesday</td>\n",
       "      <td>Friday</td>\n",
       "    </tr>\n",
       "  </tbody>\n",
       "</table>\n",
       "</div>"
      ],
      "text/plain": [
       "        JOBID      STATE               BEGIN                 END  REQMEM  \\\n",
       "0    30616928    RUNNING 2021-07-31 22:15:00                 NaT    2048   \n",
       "1    30853133  COMPLETED 2021-08-06 11:36:09 2021-09-05 11:36:32  262144   \n",
       "2    30858137  COMPLETED 2021-08-06 19:04:39 2021-09-05 19:04:53  204800   \n",
       "3    30935078  COMPLETED 2021-08-09 16:52:51 2021-09-07 20:52:55   65536   \n",
       "4  31364111_2  COMPLETED 2021-08-17 07:45:07 2021-09-10 16:45:24   16384   \n",
       "\n",
       "     USEDMEM      REQTIME     USEDTIME  NODES  CPUS     PARTITION EXITCODE  \\\n",
       "0          0     10:04:00  67-22:14:22      1     1    production      0:0   \n",
       "1  20604.62M  30-00:00:00  30-00:00:23      1     1  cgw-platypus      0:0   \n",
       "2  57553.77M  30-00:00:00  30-00:00:14      1    32     cgw-tbi01      0:0   \n",
       "3  20577.96M  29-04:00:00  29-04:00:04      1     8  cgw-platypus      0:0   \n",
       "4   9733.43M  24-09:00:00  24-09:00:17      1     1    production      0:0   \n",
       "\n",
       "         JOBLENGTH MEMPERUNIT REQMEMTOT BEGINWEEKDAY ENDWEEKDAY  \n",
       "0              NaT         Mn      2048     Saturday        NaN  \n",
       "1 30 days 00:00:23         Mn    262144       Friday     Sunday  \n",
       "2 30 days 00:00:14         Mn    204800       Friday     Sunday  \n",
       "3 29 days 04:00:04         Mn     65536       Monday    Tuesday  \n",
       "4 24 days 09:00:17         Mn     16384      Tuesday     Friday  "
      ]
     },
     "execution_count": 23,
     "metadata": {},
     "output_type": "execute_result"
    }
   ],
   "source": [
    "jobs.head()"
   ]
  },
  {
   "cell_type": "code",
   "execution_count": 24,
   "id": "a713df81",
   "metadata": {},
   "outputs": [],
   "source": [
    "# dropping null values in begin and end and sortiing by begin\n",
    "jobs = (jobs\n",
    "        .dropna(subset = ['BEGIN', 'END'])\n",
    "        .sort_values('BEGIN',\n",
    "                    ascending = False))"
   ]
  },
  {
   "cell_type": "code",
   "execution_count": 25,
   "id": "902da101",
   "metadata": {},
   "outputs": [],
   "source": [
    "# making pandas recognize the beginweekday as categorical\n",
    "jobs['BEGINWEEKDAY'] = pd.Categorical(jobs['BEGINWEEKDAY'], ['Monday',\n",
    "                                                             'Tuesday',\n",
    "                                                             'Wednesday',\n",
    "                                                             'Thursday',\n",
    "                                                             'Friday',\n",
    "                                                             'Saturday',\n",
    "                                                             'Sunday'])"
   ]
  },
  {
   "cell_type": "code",
   "execution_count": 26,
   "id": "dd5633ce",
   "metadata": {},
   "outputs": [],
   "source": [
    "# making pandas recognize the endweekday as categorical\n",
    "jobs['ENDWEEKDAY'] = pd.Categorical(jobs['ENDWEEKDAY'], ['Monday',\n",
    "                                                          'Tuesday',\n",
    "                                                          'Wednesday',\n",
    "                                                          'Thursday',\n",
    "                                                          'Friday',\n",
    "                                                          'Saturday',\n",
    "                                                          'Sunday'])"
   ]
  },
  {
   "cell_type": "code",
   "execution_count": 27,
   "id": "d21ac14e",
   "metadata": {},
   "outputs": [
    {
     "data": {
      "text/html": [
       "<div>\n",
       "<style scoped>\n",
       "    .dataframe tbody tr th:only-of-type {\n",
       "        vertical-align: middle;\n",
       "    }\n",
       "\n",
       "    .dataframe tbody tr th {\n",
       "        vertical-align: top;\n",
       "    }\n",
       "\n",
       "    .dataframe thead th {\n",
       "        text-align: right;\n",
       "    }\n",
       "</style>\n",
       "<table border=\"1\" class=\"dataframe\">\n",
       "  <thead>\n",
       "    <tr style=\"text-align: right;\">\n",
       "      <th></th>\n",
       "      <th>JOBID</th>\n",
       "      <th>STATE</th>\n",
       "      <th>BEGIN</th>\n",
       "      <th>END</th>\n",
       "      <th>REQMEM</th>\n",
       "      <th>USEDMEM</th>\n",
       "      <th>REQTIME</th>\n",
       "      <th>USEDTIME</th>\n",
       "      <th>NODES</th>\n",
       "      <th>CPUS</th>\n",
       "      <th>PARTITION</th>\n",
       "      <th>EXITCODE</th>\n",
       "      <th>JOBLENGTH</th>\n",
       "      <th>MEMPERUNIT</th>\n",
       "      <th>REQMEMTOT</th>\n",
       "      <th>BEGINWEEKDAY</th>\n",
       "      <th>ENDWEEKDAY</th>\n",
       "      <th>BEGINROLL1D</th>\n",
       "    </tr>\n",
       "  </thead>\n",
       "  <tbody>\n",
       "    <tr>\n",
       "      <th>1491978</th>\n",
       "      <td>32923997</td>\n",
       "      <td>COMPLETED</td>\n",
       "      <td>2021-10-07 20:39:26</td>\n",
       "      <td>2021-10-07 20:41:11</td>\n",
       "      <td>2000</td>\n",
       "      <td>0.09M</td>\n",
       "      <td>2-00:00:00</td>\n",
       "      <td>00:01:45</td>\n",
       "      <td>1</td>\n",
       "      <td>1</td>\n",
       "      <td>sam</td>\n",
       "      <td>0:0</td>\n",
       "      <td>0 days 00:01:45</td>\n",
       "      <td>Mn</td>\n",
       "      <td>2000.0</td>\n",
       "      <td>Thursday</td>\n",
       "      <td>Thursday</td>\n",
       "      <td>1.0</td>\n",
       "    </tr>\n",
       "    <tr>\n",
       "      <th>1491977</th>\n",
       "      <td>32923996</td>\n",
       "      <td>COMPLETED</td>\n",
       "      <td>2021-10-07 20:31:08</td>\n",
       "      <td>2021-10-07 20:32:45</td>\n",
       "      <td>2000</td>\n",
       "      <td>0.09M</td>\n",
       "      <td>2-00:00:00</td>\n",
       "      <td>00:01:37</td>\n",
       "      <td>1</td>\n",
       "      <td>1</td>\n",
       "      <td>sam</td>\n",
       "      <td>0:0</td>\n",
       "      <td>0 days 00:01:37</td>\n",
       "      <td>Mn</td>\n",
       "      <td>2000.0</td>\n",
       "      <td>Thursday</td>\n",
       "      <td>Thursday</td>\n",
       "      <td>2.0</td>\n",
       "    </tr>\n",
       "    <tr>\n",
       "      <th>927388</th>\n",
       "      <td>32923989</td>\n",
       "      <td>COMPLETED</td>\n",
       "      <td>2021-10-07 20:24:26</td>\n",
       "      <td>2021-10-07 20:26:01</td>\n",
       "      <td>2000</td>\n",
       "      <td>393.07M</td>\n",
       "      <td>2-00:00:00</td>\n",
       "      <td>00:01:35</td>\n",
       "      <td>1</td>\n",
       "      <td>1</td>\n",
       "      <td>sam</td>\n",
       "      <td>0:0</td>\n",
       "      <td>0 days 00:01:35</td>\n",
       "      <td>Mn</td>\n",
       "      <td>2000</td>\n",
       "      <td>Thursday</td>\n",
       "      <td>Thursday</td>\n",
       "      <td>3.0</td>\n",
       "    </tr>\n",
       "    <tr>\n",
       "      <th>927387</th>\n",
       "      <td>32923988</td>\n",
       "      <td>COMPLETED</td>\n",
       "      <td>2021-10-07 20:15:05</td>\n",
       "      <td>2021-10-07 20:17:24</td>\n",
       "      <td>2000</td>\n",
       "      <td>0.09M</td>\n",
       "      <td>2-00:00:00</td>\n",
       "      <td>00:02:19</td>\n",
       "      <td>1</td>\n",
       "      <td>1</td>\n",
       "      <td>sam</td>\n",
       "      <td>0:0</td>\n",
       "      <td>0 days 00:02:19</td>\n",
       "      <td>Mn</td>\n",
       "      <td>2000</td>\n",
       "      <td>Thursday</td>\n",
       "      <td>Thursday</td>\n",
       "      <td>4.0</td>\n",
       "    </tr>\n",
       "    <tr>\n",
       "      <th>927386</th>\n",
       "      <td>32923987</td>\n",
       "      <td>COMPLETED</td>\n",
       "      <td>2021-10-07 20:09:26</td>\n",
       "      <td>2021-10-07 20:11:21</td>\n",
       "      <td>2000</td>\n",
       "      <td>0.09M</td>\n",
       "      <td>2-00:00:00</td>\n",
       "      <td>00:01:55</td>\n",
       "      <td>1</td>\n",
       "      <td>1</td>\n",
       "      <td>sam</td>\n",
       "      <td>0:0</td>\n",
       "      <td>0 days 00:01:55</td>\n",
       "      <td>Mn</td>\n",
       "      <td>2000</td>\n",
       "      <td>Thursday</td>\n",
       "      <td>Thursday</td>\n",
       "      <td>5.0</td>\n",
       "    </tr>\n",
       "  </tbody>\n",
       "</table>\n",
       "</div>"
      ],
      "text/plain": [
       "            JOBID      STATE               BEGIN                 END  REQMEM  \\\n",
       "1491978  32923997  COMPLETED 2021-10-07 20:39:26 2021-10-07 20:41:11    2000   \n",
       "1491977  32923996  COMPLETED 2021-10-07 20:31:08 2021-10-07 20:32:45    2000   \n",
       "927388   32923989  COMPLETED 2021-10-07 20:24:26 2021-10-07 20:26:01    2000   \n",
       "927387   32923988  COMPLETED 2021-10-07 20:15:05 2021-10-07 20:17:24    2000   \n",
       "927386   32923987  COMPLETED 2021-10-07 20:09:26 2021-10-07 20:11:21    2000   \n",
       "\n",
       "         USEDMEM     REQTIME  USEDTIME  NODES  CPUS PARTITION EXITCODE  \\\n",
       "1491978    0.09M  2-00:00:00  00:01:45      1     1       sam      0:0   \n",
       "1491977    0.09M  2-00:00:00  00:01:37      1     1       sam      0:0   \n",
       "927388   393.07M  2-00:00:00  00:01:35      1     1       sam      0:0   \n",
       "927387     0.09M  2-00:00:00  00:02:19      1     1       sam      0:0   \n",
       "927386     0.09M  2-00:00:00  00:01:55      1     1       sam      0:0   \n",
       "\n",
       "              JOBLENGTH MEMPERUNIT REQMEMTOT BEGINWEEKDAY ENDWEEKDAY  \\\n",
       "1491978 0 days 00:01:45         Mn    2000.0     Thursday   Thursday   \n",
       "1491977 0 days 00:01:37         Mn    2000.0     Thursday   Thursday   \n",
       "927388  0 days 00:01:35         Mn      2000     Thursday   Thursday   \n",
       "927387  0 days 00:02:19         Mn      2000     Thursday   Thursday   \n",
       "927386  0 days 00:01:55         Mn      2000     Thursday   Thursday   \n",
       "\n",
       "         BEGINROLL1D  \n",
       "1491978          1.0  \n",
       "1491977          2.0  \n",
       "927388           3.0  \n",
       "927387           4.0  \n",
       "927386           5.0  "
      ]
     },
     "execution_count": 27,
     "metadata": {},
     "output_type": "execute_result"
    }
   ],
   "source": [
    "# getting count of jobs per day started\n",
    "jobs['BEGINROLL1D'] = (jobs\n",
    "                       .rolling('1d', on = 'BEGIN')['JOBID']\n",
    "                       .count())\n",
    "\n",
    "jobs.head()"
   ]
  },
  {
   "cell_type": "code",
   "execution_count": 28,
   "id": "10812f29",
   "metadata": {},
   "outputs": [
    {
     "data": {
      "image/png": "[encoded data removed]",
      "text/plain": [
       "<Figure size 1080x576 with 1 Axes>"
      ]
     },
     "metadata": {
      "needs_background": "light"
     },
     "output_type": "display_data"
    }
   ],
   "source": [
    "# box plots for jobs started by days of the week (all partitions)\n",
    "plt.figure(figsize = (15,8))\n",
    "\n",
    "sns.boxplot(data = jobs,\n",
    "           x = 'BEGINWEEKDAY',\n",
    "           y = 'BEGINROLL1D');"
   ]
  },
  {
   "cell_type": "code",
   "execution_count": 29,
   "id": "70e961a7",
   "metadata": {},
   "outputs": [
    {
     "data": {
      "text/html": [
       "<div>\n",
       "<style scoped>\n",
       "    .dataframe tbody tr th:only-of-type {\n",
       "        vertical-align: middle;\n",
       "    }\n",
       "\n",
       "    .dataframe tbody tr th {\n",
       "        vertical-align: top;\n",
       "    }\n",
       "\n",
       "    .dataframe thead th {\n",
       "        text-align: right;\n",
       "    }\n",
       "</style>\n",
       "<table border=\"1\" class=\"dataframe\">\n",
       "  <thead>\n",
       "    <tr style=\"text-align: right;\">\n",
       "      <th></th>\n",
       "      <th>JOBID</th>\n",
       "      <th>STATE</th>\n",
       "      <th>BEGIN</th>\n",
       "      <th>END</th>\n",
       "      <th>REQMEM</th>\n",
       "      <th>USEDMEM</th>\n",
       "      <th>REQTIME</th>\n",
       "      <th>USEDTIME</th>\n",
       "      <th>NODES</th>\n",
       "      <th>CPUS</th>\n",
       "      <th>PARTITION</th>\n",
       "      <th>EXITCODE</th>\n",
       "      <th>JOBLENGTH</th>\n",
       "      <th>MEMPERUNIT</th>\n",
       "      <th>REQMEMTOT</th>\n",
       "      <th>BEGINWEEKDAY</th>\n",
       "      <th>ENDWEEKDAY</th>\n",
       "      <th>BEGINROLL1D</th>\n",
       "      <th>ENDROLL1D</th>\n",
       "    </tr>\n",
       "  </thead>\n",
       "  <tbody>\n",
       "    <tr>\n",
       "      <th>1491978</th>\n",
       "      <td>32923997</td>\n",
       "      <td>COMPLETED</td>\n",
       "      <td>2021-10-07 20:39:26</td>\n",
       "      <td>2021-10-07 20:41:11</td>\n",
       "      <td>2000</td>\n",
       "      <td>0.09M</td>\n",
       "      <td>2-00:00:00</td>\n",
       "      <td>00:01:45</td>\n",
       "      <td>1</td>\n",
       "      <td>1</td>\n",
       "      <td>sam</td>\n",
       "      <td>0:0</td>\n",
       "      <td>0 days 00:01:45</td>\n",
       "      <td>Mn</td>\n",
       "      <td>2000.0</td>\n",
       "      <td>Thursday</td>\n",
       "      <td>Thursday</td>\n",
       "      <td>1.0</td>\n",
       "      <td>1.0</td>\n",
       "    </tr>\n",
       "    <tr>\n",
       "      <th>1491977</th>\n",
       "      <td>32923996</td>\n",
       "      <td>COMPLETED</td>\n",
       "      <td>2021-10-07 20:31:08</td>\n",
       "      <td>2021-10-07 20:32:45</td>\n",
       "      <td>2000</td>\n",
       "      <td>0.09M</td>\n",
       "      <td>2-00:00:00</td>\n",
       "      <td>00:01:37</td>\n",
       "      <td>1</td>\n",
       "      <td>1</td>\n",
       "      <td>sam</td>\n",
       "      <td>0:0</td>\n",
       "      <td>0 days 00:01:37</td>\n",
       "      <td>Mn</td>\n",
       "      <td>2000.0</td>\n",
       "      <td>Thursday</td>\n",
       "      <td>Thursday</td>\n",
       "      <td>2.0</td>\n",
       "      <td>2.0</td>\n",
       "    </tr>\n",
       "    <tr>\n",
       "      <th>927388</th>\n",
       "      <td>32923989</td>\n",
       "      <td>COMPLETED</td>\n",
       "      <td>2021-10-07 20:24:26</td>\n",
       "      <td>2021-10-07 20:26:01</td>\n",
       "      <td>2000</td>\n",
       "      <td>393.07M</td>\n",
       "      <td>2-00:00:00</td>\n",
       "      <td>00:01:35</td>\n",
       "      <td>1</td>\n",
       "      <td>1</td>\n",
       "      <td>sam</td>\n",
       "      <td>0:0</td>\n",
       "      <td>0 days 00:01:35</td>\n",
       "      <td>Mn</td>\n",
       "      <td>2000</td>\n",
       "      <td>Thursday</td>\n",
       "      <td>Thursday</td>\n",
       "      <td>3.0</td>\n",
       "      <td>3.0</td>\n",
       "    </tr>\n",
       "    <tr>\n",
       "      <th>927387</th>\n",
       "      <td>32923988</td>\n",
       "      <td>COMPLETED</td>\n",
       "      <td>2021-10-07 20:15:05</td>\n",
       "      <td>2021-10-07 20:17:24</td>\n",
       "      <td>2000</td>\n",
       "      <td>0.09M</td>\n",
       "      <td>2-00:00:00</td>\n",
       "      <td>00:02:19</td>\n",
       "      <td>1</td>\n",
       "      <td>1</td>\n",
       "      <td>sam</td>\n",
       "      <td>0:0</td>\n",
       "      <td>0 days 00:02:19</td>\n",
       "      <td>Mn</td>\n",
       "      <td>2000</td>\n",
       "      <td>Thursday</td>\n",
       "      <td>Thursday</td>\n",
       "      <td>4.0</td>\n",
       "      <td>4.0</td>\n",
       "    </tr>\n",
       "    <tr>\n",
       "      <th>927386</th>\n",
       "      <td>32923987</td>\n",
       "      <td>COMPLETED</td>\n",
       "      <td>2021-10-07 20:09:26</td>\n",
       "      <td>2021-10-07 20:11:21</td>\n",
       "      <td>2000</td>\n",
       "      <td>0.09M</td>\n",
       "      <td>2-00:00:00</td>\n",
       "      <td>00:01:55</td>\n",
       "      <td>1</td>\n",
       "      <td>1</td>\n",
       "      <td>sam</td>\n",
       "      <td>0:0</td>\n",
       "      <td>0 days 00:01:55</td>\n",
       "      <td>Mn</td>\n",
       "      <td>2000</td>\n",
       "      <td>Thursday</td>\n",
       "      <td>Thursday</td>\n",
       "      <td>5.0</td>\n",
       "      <td>5.0</td>\n",
       "    </tr>\n",
       "  </tbody>\n",
       "</table>\n",
       "</div>"
      ],
      "text/plain": [
       "            JOBID      STATE               BEGIN                 END  REQMEM  \\\n",
       "1491978  32923997  COMPLETED 2021-10-07 20:39:26 2021-10-07 20:41:11    2000   \n",
       "1491977  32923996  COMPLETED 2021-10-07 20:31:08 2021-10-07 20:32:45    2000   \n",
       "927388   32923989  COMPLETED 2021-10-07 20:24:26 2021-10-07 20:26:01    2000   \n",
       "927387   32923988  COMPLETED 2021-10-07 20:15:05 2021-10-07 20:17:24    2000   \n",
       "927386   32923987  COMPLETED 2021-10-07 20:09:26 2021-10-07 20:11:21    2000   \n",
       "\n",
       "         USEDMEM     REQTIME  USEDTIME  NODES  CPUS PARTITION EXITCODE  \\\n",
       "1491978    0.09M  2-00:00:00  00:01:45      1     1       sam      0:0   \n",
       "1491977    0.09M  2-00:00:00  00:01:37      1     1       sam      0:0   \n",
       "927388   393.07M  2-00:00:00  00:01:35      1     1       sam      0:0   \n",
       "927387     0.09M  2-00:00:00  00:02:19      1     1       sam      0:0   \n",
       "927386     0.09M  2-00:00:00  00:01:55      1     1       sam      0:0   \n",
       "\n",
       "              JOBLENGTH MEMPERUNIT REQMEMTOT BEGINWEEKDAY ENDWEEKDAY  \\\n",
       "1491978 0 days 00:01:45         Mn    2000.0     Thursday   Thursday   \n",
       "1491977 0 days 00:01:37         Mn    2000.0     Thursday   Thursday   \n",
       "927388  0 days 00:01:35         Mn      2000     Thursday   Thursday   \n",
       "927387  0 days 00:02:19         Mn      2000     Thursday   Thursday   \n",
       "927386  0 days 00:01:55         Mn      2000     Thursday   Thursday   \n",
       "\n",
       "         BEGINROLL1D  ENDROLL1D  \n",
       "1491978          1.0        1.0  \n",
       "1491977          2.0        2.0  \n",
       "927388           3.0        3.0  \n",
       "927387           4.0        4.0  \n",
       "927386           5.0        5.0  "
      ]
     },
     "execution_count": 29,
     "metadata": {},
     "output_type": "execute_result"
    }
   ],
   "source": [
    "# sorting jobs by end and getting counts of jobs ended by day of the week\n",
    "jobs = jobs.sort_values('END',\n",
    "                       ascending = False)\n",
    "\n",
    "jobs['ENDROLL1D'] = (jobs\n",
    "                       .rolling('1d', on = 'END')['JOBID']\n",
    "                       .count())\n",
    "\n",
    "jobs.head()"
   ]
  },
  {
   "cell_type": "code",
   "execution_count": 30,
   "id": "cc233297",
   "metadata": {},
   "outputs": [
    {
     "data": {
      "image/png": "[encoded data removed]",
      "text/plain": [
       "<Figure size 1080x576 with 1 Axes>"
      ]
     },
     "metadata": {
      "needs_background": "light"
     },
     "output_type": "display_data"
    }
   ],
   "source": [
    "# box plots of the jobs ended by days of the week (all partitions)\n",
    "plt.figure(figsize = (15,8))\n",
    "\n",
    "sns.boxplot(data = jobs,\n",
    "           x = 'ENDWEEKDAY',\n",
    "           y = 'ENDROLL1D');"
   ]
  },
  {
   "cell_type": "code",
   "execution_count": 31,
   "id": "985dc709",
   "metadata": {},
   "outputs": [
    {
     "data": {
      "text/plain": [
       "Tuesday      1300031\n",
       "Wednesday    1182419\n",
       "Monday       1120898\n",
       "Thursday     1033677\n",
       "Friday       1027294\n",
       "Sunday        882823\n",
       "Saturday      848092\n",
       "Name: ENDWEEKDAY, dtype: int64"
      ]
     },
     "execution_count": 31,
     "metadata": {},
     "output_type": "execute_result"
    }
   ],
   "source": [
    "jobs['ENDWEEKDAY'].value_counts()"
   ]
  },
  {
   "cell_type": "code",
   "execution_count": 32,
   "id": "8770b1fe",
   "metadata": {},
   "outputs": [
    {
     "data": {
      "text/plain": [
       "Tuesday      1299110\n",
       "Wednesday    1177322\n",
       "Monday       1132506\n",
       "Friday       1033603\n",
       "Thursday     1027470\n",
       "Sunday        875517\n",
       "Saturday      849706\n",
       "Name: BEGINWEEKDAY, dtype: int64"
      ]
     },
     "execution_count": 32,
     "metadata": {},
     "output_type": "execute_result"
    }
   ],
   "source": [
    "jobs['BEGINWEEKDAY'].value_counts()"
   ]
  },
  {
   "cell_type": "code",
   "execution_count": 34,
   "id": "eec82a73",
   "metadata": {},
   "outputs": [
    {
     "data": {
      "image/png": "[encoded data removed]",
      "text/plain": [
       "<Figure size 1080x576 with 1 Axes>"
      ]
     },
     "metadata": {
      "needs_background": "light"
     },
     "output_type": "display_data"
    }
   ],
   "source": [
    "# box plots of jobs ended by days of the week (production partition only)\n",
    "plt.figure(figsize = (15,8))\n",
    "\n",
    "sns.boxplot(data = jobs[jobs['PARTITION']== 'production'],\n",
    "           x = 'ENDWEEKDAY',\n",
    "           y = 'ENDROLL1D');"
   ]
  },
  {
   "cell_type": "code",
   "execution_count": 36,
   "id": "4babaed2",
   "metadata": {},
   "outputs": [
    {
     "data": {
      "text/plain": [
       "Timedelta('0 days 03:15:12.413533215')"
      ]
     },
     "execution_count": 36,
     "metadata": {},
     "output_type": "execute_result"
    }
   ],
   "source": [
    "jobs[jobs['ENDWEEKDAY'] == 'Tuesday']['JOBLENGTH'].mean()"
   ]
  },
  {
   "cell_type": "code",
   "execution_count": 42,
   "id": "c129e9cf",
   "metadata": {},
   "outputs": [
    {
     "data": {
      "text/plain": [
       "Timedelta('0 days 00:10:38')"
      ]
     },
     "execution_count": 42,
     "metadata": {},
     "output_type": "execute_result"
    }
   ],
   "source": [
    "jobs[jobs['ENDWEEKDAY'] == 'Tuesday']['JOBLENGTH'].median()"
   ]
  },
  {
   "cell_type": "code",
   "execution_count": 37,
   "id": "a65a1889",
   "metadata": {},
   "outputs": [
    {
     "data": {
      "text/plain": [
       "Timedelta('0 days 03:41:25.878061197')"
      ]
     },
     "execution_count": 37,
     "metadata": {},
     "output_type": "execute_result"
    }
   ],
   "source": [
    "jobs[jobs['ENDWEEKDAY'] == 'Friday']['JOBLENGTH'].mean()"
   ]
  },
  {
   "cell_type": "code",
   "execution_count": 43,
   "id": "01a77453",
   "metadata": {},
   "outputs": [
    {
     "data": {
      "text/plain": [
       "Timedelta('0 days 00:17:24')"
      ]
     },
     "execution_count": 43,
     "metadata": {},
     "output_type": "execute_result"
    }
   ],
   "source": [
    "jobs[jobs['ENDWEEKDAY'] == 'Friday']['JOBLENGTH'].median()"
   ]
  },
  {
   "cell_type": "code",
   "execution_count": 41,
   "id": "81faa76c",
   "metadata": {},
   "outputs": [
    {
     "data": {
      "text/plain": [
       "count                      7395234\n",
       "mean     0 days 03:48:03.920357489\n",
       "std      0 days 12:44:51.141935498\n",
       "min              -1 days +23:02:54\n",
       "25%                0 days 00:02:37\n",
       "50%                0 days 00:13:54\n",
       "75%                0 days 01:28:10\n",
       "max               34 days 23:15:05\n",
       "Name: JOBLENGTH, dtype: object"
      ]
     },
     "execution_count": 41,
     "metadata": {},
     "output_type": "execute_result"
    }
   ],
   "source": [
    "jobs['JOBLENGTH'].describe()"
   ]
  },
  {
   "cell_type": "code",
   "execution_count": 46,
   "id": "e12a4a19",
   "metadata": {},
   "outputs": [
    {
     "data": {
      "text/plain": [
       "production              7019136\n",
       "nogpfs                   147044\n",
       "pascal                   124451\n",
       "sam                       64967\n",
       "turing                    21412\n",
       "maxwell                   11278\n",
       "cgw-maizie                 4308\n",
       "debug                      1616\n",
       "cgw-platypus                376\n",
       "cgw-dsi-gw                  228\n",
       "cgw-capra1                  153\n",
       "cgw-dougherty1              125\n",
       "cgw-horus                    61\n",
       "cgw-cqs1                     28\n",
       "cgw-hanuman                  21\n",
       "cgw-sideshowbob              14\n",
       "cgw-vm-qa-flatearth1          9\n",
       "cgw-tbi01                     7\n",
       "Name: PARTITION, dtype: int64"
      ]
     },
     "execution_count": 46,
     "metadata": {},
     "output_type": "execute_result"
    }
   ],
   "source": [
    "jobs['PARTITION'].value_counts()"
   ]
  },
  {
   "cell_type": "code",
   "execution_count": 48,
   "id": "fa2bfc80",
   "metadata": {},
   "outputs": [
    {
     "data": {
      "text/plain": [
       "scontrol    6000946\n",
       "sbatch      1601416\n",
       "scancel      817933\n",
       "sacct        621390\n",
       "squeue       505728\n",
       "Name: COMMAND, dtype: int64"
      ]
     },
     "execution_count": 48,
     "metadata": {},
     "output_type": "execute_result"
    }
   ],
   "source": [
    "logs['COMMAND'].value_counts()"
   ]
  },
  {
   "cell_type": "code",
   "execution_count": 49,
   "id": "2c541888",
   "metadata": {},
   "outputs": [
    {
     "data": {
      "text/plain": [
       "COMPLETED              7375084\n",
       "CANCELLED                 9055\n",
       "FAILED                    3766\n",
       "CANCELLED by 9201         1776\n",
       "OUT_OF_MEMORY             1739\n",
       "                        ...   \n",
       "CANCELLED by 481000          1\n",
       "CANCELLED by 590520          1\n",
       "CANCELLED by 9204            1\n",
       "CANCELLED by 747109          1\n",
       "CANCELLED by 315497          1\n",
       "Name: STATE, Length: 143, dtype: int64"
      ]
     },
     "execution_count": 49,
     "metadata": {},
     "output_type": "execute_result"
    }
   ],
   "source": [
    "jobs['STATE'].value_counts()"
   ]
  },
  {
   "cell_type": "code",
   "execution_count": 51,
   "id": "b5439c52",
   "metadata": {},
   "outputs": [
    {
     "data": {
      "text/html": [
       "<div>\n",
       "<style scoped>\n",
       "    .dataframe tbody tr th:only-of-type {\n",
       "        vertical-align: middle;\n",
       "    }\n",
       "\n",
       "    .dataframe tbody tr th {\n",
       "        vertical-align: top;\n",
       "    }\n",
       "\n",
       "    .dataframe thead th {\n",
       "        text-align: right;\n",
       "    }\n",
       "</style>\n",
       "<table border=\"1\" class=\"dataframe\">\n",
       "  <thead>\n",
       "    <tr style=\"text-align: right;\">\n",
       "      <th></th>\n",
       "      <th>JOBID</th>\n",
       "      <th>STATE</th>\n",
       "      <th>BEGIN</th>\n",
       "      <th>END</th>\n",
       "      <th>REQMEM</th>\n",
       "      <th>USEDMEM</th>\n",
       "      <th>REQTIME</th>\n",
       "      <th>USEDTIME</th>\n",
       "      <th>NODES</th>\n",
       "      <th>CPUS</th>\n",
       "      <th>PARTITION</th>\n",
       "      <th>EXITCODE</th>\n",
       "      <th>JOBLENGTH</th>\n",
       "      <th>MEMPERUNIT</th>\n",
       "      <th>REQMEMTOT</th>\n",
       "      <th>BEGINWEEKDAY</th>\n",
       "      <th>ENDWEEKDAY</th>\n",
       "      <th>BEGINROLL1D</th>\n",
       "      <th>ENDROLL1D</th>\n",
       "    </tr>\n",
       "  </thead>\n",
       "  <tbody>\n",
       "    <tr>\n",
       "      <th>6257234</th>\n",
       "      <td>25494579</td>\n",
       "      <td>COMPLETED</td>\n",
       "      <td>2020-11-01 01:57:51</td>\n",
       "      <td>2020-11-01 01:00:45</td>\n",
       "      <td>4096</td>\n",
       "      <td>810.62M</td>\n",
       "      <td>12:00:00</td>\n",
       "      <td>00:02:54</td>\n",
       "      <td>1</td>\n",
       "      <td>1</td>\n",
       "      <td>production</td>\n",
       "      <td>0:0</td>\n",
       "      <td>-1 days +23:02:54</td>\n",
       "      <td>Mc</td>\n",
       "      <td>NaN</td>\n",
       "      <td>Sunday</td>\n",
       "      <td>Sunday</td>\n",
       "      <td>7095.0</td>\n",
       "      <td>7572.0</td>\n",
       "    </tr>\n",
       "  </tbody>\n",
       "</table>\n",
       "</div>"
      ],
      "text/plain": [
       "            JOBID      STATE               BEGIN                 END  REQMEM  \\\n",
       "6257234  25494579  COMPLETED 2020-11-01 01:57:51 2020-11-01 01:00:45    4096   \n",
       "\n",
       "         USEDMEM   REQTIME  USEDTIME  NODES  CPUS   PARTITION EXITCODE  \\\n",
       "6257234  810.62M  12:00:00  00:02:54      1     1  production      0:0   \n",
       "\n",
       "                JOBLENGTH MEMPERUNIT REQMEMTOT BEGINWEEKDAY ENDWEEKDAY  \\\n",
       "6257234 -1 days +23:02:54         Mc       NaN       Sunday     Sunday   \n",
       "\n",
       "         BEGINROLL1D  ENDROLL1D  \n",
       "6257234       7095.0     7572.0  "
      ]
     },
     "execution_count": 51,
     "metadata": {},
     "output_type": "execute_result"
    }
   ],
   "source": [
    "jobs[jobs['JOBLENGTH'] == jobs['JOBLENGTH'].min()]"
   ]
  },
  {
   "cell_type": "code",
   "execution_count": null,
   "id": "05b10627",
   "metadata": {},
   "outputs": [],
   "source": []
  }
 ],
 "metadata": {
  "kernelspec": {
   "display_name": "Python 3 (ipykernel)",
   "language": "python",
   "name": "python3"
  },
  "language_info": {
   "codemirror_mode": {
    "name": "ipython",
    "version": 3
   },
   "file_extension": ".py",
   "mimetype": "text/x-python",
   "name": "python",
   "nbconvert_exporter": "python",
   "pygments_lexer": "ipython3",
   "version": "3.8.11"
  }
 },
 "nbformat": 4,
 "nbformat_minor": 5
}
