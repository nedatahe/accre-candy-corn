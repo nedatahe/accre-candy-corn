{
 "cells": [
  {
   "cell_type": "code",
   "execution_count": 1,
   "id": "5f63f5bc",
   "metadata": {},
   "outputs": [],
   "source": [
    "import pandas as pd\n",
    "import numpy as np\n",
    "import matplotlib.pyplot as plt\n",
    "import seaborn as sns"
   ]
  },
  {
   "cell_type": "code",
   "execution_count": 2,
   "id": "b0344763",
   "metadata": {},
   "outputs": [
    {
     "data": {
      "text/html": [
       "<div>\n",
       "<style scoped>\n",
       "    .dataframe tbody tr th:only-of-type {\n",
       "        vertical-align: middle;\n",
       "    }\n",
       "\n",
       "    .dataframe tbody tr th {\n",
       "        vertical-align: top;\n",
       "    }\n",
       "\n",
       "    .dataframe thead th {\n",
       "        text-align: right;\n",
       "    }\n",
       "</style>\n",
       "<table border=\"1\" class=\"dataframe\">\n",
       "  <thead>\n",
       "    <tr style=\"text-align: right;\">\n",
       "      <th></th>\n",
       "      <th>JOBID</th>\n",
       "      <th>STATE</th>\n",
       "      <th>BEGIN</th>\n",
       "      <th>END</th>\n",
       "      <th>REQMEM</th>\n",
       "      <th>USEDMEM</th>\n",
       "      <th>REQTIME</th>\n",
       "      <th>USEDTIME</th>\n",
       "      <th>NODES</th>\n",
       "      <th>CPUS</th>\n",
       "      <th>PARTITION</th>\n",
       "      <th>EXITCODE</th>\n",
       "    </tr>\n",
       "  </thead>\n",
       "  <tbody>\n",
       "    <tr>\n",
       "      <th>0</th>\n",
       "      <td>30616928</td>\n",
       "      <td>RUNNING</td>\n",
       "      <td>2021-07-31T22:15:00</td>\n",
       "      <td>Unknown</td>\n",
       "      <td>2048Mn</td>\n",
       "      <td>0</td>\n",
       "      <td>10:04:00</td>\n",
       "      <td>67-22:14:22</td>\n",
       "      <td>1</td>\n",
       "      <td>1</td>\n",
       "      <td>production</td>\n",
       "      <td>0:0</td>\n",
       "    </tr>\n",
       "    <tr>\n",
       "      <th>1</th>\n",
       "      <td>30853133</td>\n",
       "      <td>COMPLETED</td>\n",
       "      <td>2021-08-06T11:36:09</td>\n",
       "      <td>2021-09-05T11:36:32</td>\n",
       "      <td>262144Mn</td>\n",
       "      <td>20604.62M</td>\n",
       "      <td>30-00:00:00</td>\n",
       "      <td>30-00:00:23</td>\n",
       "      <td>1</td>\n",
       "      <td>1</td>\n",
       "      <td>cgw-platypus</td>\n",
       "      <td>0:0</td>\n",
       "    </tr>\n",
       "    <tr>\n",
       "      <th>2</th>\n",
       "      <td>30858137</td>\n",
       "      <td>COMPLETED</td>\n",
       "      <td>2021-08-06T19:04:39</td>\n",
       "      <td>2021-09-05T19:04:53</td>\n",
       "      <td>204800Mn</td>\n",
       "      <td>57553.77M</td>\n",
       "      <td>30-00:00:00</td>\n",
       "      <td>30-00:00:14</td>\n",
       "      <td>1</td>\n",
       "      <td>32</td>\n",
       "      <td>cgw-tbi01</td>\n",
       "      <td>0:0</td>\n",
       "    </tr>\n",
       "    <tr>\n",
       "      <th>3</th>\n",
       "      <td>30935078</td>\n",
       "      <td>COMPLETED</td>\n",
       "      <td>2021-08-09T16:52:51</td>\n",
       "      <td>2021-09-07T20:52:55</td>\n",
       "      <td>65536Mn</td>\n",
       "      <td>20577.96M</td>\n",
       "      <td>29-04:00:00</td>\n",
       "      <td>29-04:00:04</td>\n",
       "      <td>1</td>\n",
       "      <td>8</td>\n",
       "      <td>cgw-platypus</td>\n",
       "      <td>0:0</td>\n",
       "    </tr>\n",
       "    <tr>\n",
       "      <th>4</th>\n",
       "      <td>31364111_2</td>\n",
       "      <td>COMPLETED</td>\n",
       "      <td>2021-08-17T07:45:07</td>\n",
       "      <td>2021-09-10T16:45:24</td>\n",
       "      <td>16384Mn</td>\n",
       "      <td>9733.43M</td>\n",
       "      <td>24-09:00:00</td>\n",
       "      <td>24-09:00:17</td>\n",
       "      <td>1</td>\n",
       "      <td>1</td>\n",
       "      <td>production</td>\n",
       "      <td>0:0</td>\n",
       "    </tr>\n",
       "  </tbody>\n",
       "</table>\n",
       "</div>"
      ],
      "text/plain": [
       "        JOBID      STATE                BEGIN                  END    REQMEM  \\\n",
       "0    30616928    RUNNING  2021-07-31T22:15:00              Unknown    2048Mn   \n",
       "1    30853133  COMPLETED  2021-08-06T11:36:09  2021-09-05T11:36:32  262144Mn   \n",
       "2    30858137  COMPLETED  2021-08-06T19:04:39  2021-09-05T19:04:53  204800Mn   \n",
       "3    30935078  COMPLETED  2021-08-09T16:52:51  2021-09-07T20:52:55   65536Mn   \n",
       "4  31364111_2  COMPLETED  2021-08-17T07:45:07  2021-09-10T16:45:24   16384Mn   \n",
       "\n",
       "     USEDMEM      REQTIME     USEDTIME  NODES  CPUS     PARTITION EXITCODE  \n",
       "0          0     10:04:00  67-22:14:22      1     1    production      0:0  \n",
       "1  20604.62M  30-00:00:00  30-00:00:23      1     1  cgw-platypus      0:0  \n",
       "2  57553.77M  30-00:00:00  30-00:00:14      1    32     cgw-tbi01      0:0  \n",
       "3  20577.96M  29-04:00:00  29-04:00:04      1     8  cgw-platypus      0:0  \n",
       "4   9733.43M  24-09:00:00  24-09:00:17      1     1    production      0:0  "
      ]
     },
     "execution_count": 2,
     "metadata": {},
     "output_type": "execute_result"
    }
   ],
   "source": [
    "job_record = pd.read_csv('../data/fullsample.csv')\n",
    "\n",
    "job_record.head()"
   ]
  },
  {
   "cell_type": "code",
   "execution_count": 3,
   "id": "b8e3e6f4",
   "metadata": {},
   "outputs": [],
   "source": [
    "job_record['BEGIN'] = pd.to_datetime(job_record['BEGIN'],\n",
    "                                     infer_datetime_format = True,\n",
    "                                    errors = 'coerce')"
   ]
  },
  {
   "cell_type": "code",
   "execution_count": 4,
   "id": "cbc1ed8e",
   "metadata": {},
   "outputs": [],
   "source": [
    "job_record['END'] = pd.to_datetime(job_record['END'],\n",
    "                                     infer_datetime_format = True,\n",
    "                                    errors = 'coerce')"
   ]
  },
  {
   "cell_type": "code",
   "execution_count": 5,
   "id": "cf823a2c",
   "metadata": {},
   "outputs": [
    {
     "name": "stdout",
     "output_type": "stream",
     "text": [
      "<class 'pandas.core.frame.DataFrame'>\n",
      "RangeIndex: 7395885 entries, 0 to 7395884\n",
      "Data columns (total 12 columns):\n",
      " #   Column     Non-Null Count    Dtype         \n",
      "---  ------     --------------    -----         \n",
      " 0   JOBID      7395885 non-null  object        \n",
      " 1   STATE      7395885 non-null  object        \n",
      " 2   BEGIN      7395442 non-null  datetime64[ns]\n",
      " 3   END        7395234 non-null  datetime64[ns]\n",
      " 4   REQMEM     7395885 non-null  object        \n",
      " 5   USEDMEM    7395885 non-null  object        \n",
      " 6   REQTIME    7395885 non-null  object        \n",
      " 7   USEDTIME   7395885 non-null  object        \n",
      " 8   NODES      7395885 non-null  int64         \n",
      " 9   CPUS       7395885 non-null  int64         \n",
      " 10  PARTITION  7395885 non-null  object        \n",
      " 11  EXITCODE   7395885 non-null  object        \n",
      "dtypes: datetime64[ns](2), int64(2), object(8)\n",
      "memory usage: 677.1+ MB\n"
     ]
    }
   ],
   "source": [
    "job_record.info(show_counts = True)"
   ]
  },
  {
   "cell_type": "code",
   "execution_count": 6,
   "id": "0e7a3e75",
   "metadata": {},
   "outputs": [
    {
     "data": {
      "text/plain": [
       "production              7019578\n",
       "nogpfs                   147229\n",
       "pascal                   124453\n",
       "sam                       64967\n",
       "turing                    21424\n",
       "maxwell                   11278\n",
       "cgw-maizie                 4309\n",
       "debug                      1616\n",
       "cgw-platypus                379\n",
       "cgw-dsi-gw                  228\n",
       "cgw-capra1                  157\n",
       "cgw-dougherty1              125\n",
       "cgw-horus                    61\n",
       "cgw-cqs1                     28\n",
       "cgw-hanuman                  21\n",
       "cgw-sideshowbob              14\n",
       "cgw-vm-qa-flatearth1          9\n",
       "cgw-tbi01                     8\n",
       "cgw-rocksteady                1\n",
       "Name: PARTITION, dtype: int64"
      ]
     },
     "execution_count": 6,
     "metadata": {},
     "output_type": "execute_result"
    }
   ],
   "source": [
    "job_record['PARTITION'].value_counts()"
   ]
  },
  {
   "cell_type": "code",
   "execution_count": 7,
   "id": "169aa570",
   "metadata": {},
   "outputs": [
    {
     "data": {
      "text/plain": [
       "0:0      7384480\n",
       "1:0         4958\n",
       "0:15        1887\n",
       "0:125       1739\n",
       "0:9         1361\n",
       "2:0          508\n",
       "0:7          389\n",
       "121:0         89\n",
       "127:0         88\n",
       "13:0          68\n",
       "24:0          67\n",
       "0:11          35\n",
       "38:0          32\n",
       "28:0          29\n",
       "6:0           27\n",
       "126:0         24\n",
       "0:6           18\n",
       "0:2           16\n",
       "7:0           12\n",
       "29:0          12\n",
       "16:0           9\n",
       "59:0           8\n",
       "9:0            4\n",
       "0:40           4\n",
       "8:0            3\n",
       "125:0          3\n",
       "0:105          2\n",
       "76:0           1\n",
       "85:0           1\n",
       "0:12           1\n",
       "30:0           1\n",
       "0:98           1\n",
       "43:0           1\n",
       "3:0            1\n",
       "67:0           1\n",
       "4:0            1\n",
       "11:0           1\n",
       "0:8            1\n",
       "103:0          1\n",
       "116:0          1\n",
       "Name: EXITCODE, dtype: int64"
      ]
     },
     "execution_count": 7,
     "metadata": {},
     "output_type": "execute_result"
    }
   ],
   "source": [
    "job_record['EXITCODE'].value_counts()"
   ]
  },
  {
   "cell_type": "code",
   "execution_count": 8,
   "id": "9a9d31f4",
   "metadata": {},
   "outputs": [
    {
     "data": {
      "text/html": [
       "<div>\n",
       "<style scoped>\n",
       "    .dataframe tbody tr th:only-of-type {\n",
       "        vertical-align: middle;\n",
       "    }\n",
       "\n",
       "    .dataframe tbody tr th {\n",
       "        vertical-align: top;\n",
       "    }\n",
       "\n",
       "    .dataframe thead th {\n",
       "        text-align: right;\n",
       "    }\n",
       "</style>\n",
       "<table border=\"1\" class=\"dataframe\">\n",
       "  <thead>\n",
       "    <tr style=\"text-align: right;\">\n",
       "      <th></th>\n",
       "      <th>JOBID</th>\n",
       "      <th>STATE</th>\n",
       "      <th>BEGIN</th>\n",
       "      <th>END</th>\n",
       "      <th>REQMEM</th>\n",
       "      <th>USEDMEM</th>\n",
       "      <th>REQTIME</th>\n",
       "      <th>USEDTIME</th>\n",
       "      <th>NODES</th>\n",
       "      <th>CPUS</th>\n",
       "      <th>PARTITION</th>\n",
       "      <th>EXITCODE</th>\n",
       "    </tr>\n",
       "  </thead>\n",
       "  <tbody>\n",
       "    <tr>\n",
       "      <th>1</th>\n",
       "      <td>30853133</td>\n",
       "      <td>COMPLETED</td>\n",
       "      <td>2021-08-06 11:36:09</td>\n",
       "      <td>2021-09-05 11:36:32</td>\n",
       "      <td>262144Mn</td>\n",
       "      <td>20604.62M</td>\n",
       "      <td>30-00:00:00</td>\n",
       "      <td>30-00:00:23</td>\n",
       "      <td>1</td>\n",
       "      <td>1</td>\n",
       "      <td>cgw-platypus</td>\n",
       "      <td>0:0</td>\n",
       "    </tr>\n",
       "    <tr>\n",
       "      <th>2</th>\n",
       "      <td>30858137</td>\n",
       "      <td>COMPLETED</td>\n",
       "      <td>2021-08-06 19:04:39</td>\n",
       "      <td>2021-09-05 19:04:53</td>\n",
       "      <td>204800Mn</td>\n",
       "      <td>57553.77M</td>\n",
       "      <td>30-00:00:00</td>\n",
       "      <td>30-00:00:14</td>\n",
       "      <td>1</td>\n",
       "      <td>32</td>\n",
       "      <td>cgw-tbi01</td>\n",
       "      <td>0:0</td>\n",
       "    </tr>\n",
       "    <tr>\n",
       "      <th>3</th>\n",
       "      <td>30935078</td>\n",
       "      <td>COMPLETED</td>\n",
       "      <td>2021-08-09 16:52:51</td>\n",
       "      <td>2021-09-07 20:52:55</td>\n",
       "      <td>65536Mn</td>\n",
       "      <td>20577.96M</td>\n",
       "      <td>29-04:00:00</td>\n",
       "      <td>29-04:00:04</td>\n",
       "      <td>1</td>\n",
       "      <td>8</td>\n",
       "      <td>cgw-platypus</td>\n",
       "      <td>0:0</td>\n",
       "    </tr>\n",
       "    <tr>\n",
       "      <th>4</th>\n",
       "      <td>31364111_2</td>\n",
       "      <td>COMPLETED</td>\n",
       "      <td>2021-08-17 07:45:07</td>\n",
       "      <td>2021-09-10 16:45:24</td>\n",
       "      <td>16384Mn</td>\n",
       "      <td>9733.43M</td>\n",
       "      <td>24-09:00:00</td>\n",
       "      <td>24-09:00:17</td>\n",
       "      <td>1</td>\n",
       "      <td>1</td>\n",
       "      <td>production</td>\n",
       "      <td>0:0</td>\n",
       "    </tr>\n",
       "    <tr>\n",
       "      <th>5</th>\n",
       "      <td>31364111_3</td>\n",
       "      <td>COMPLETED</td>\n",
       "      <td>2021-08-17 07:45:07</td>\n",
       "      <td>2021-09-06 16:17:34</td>\n",
       "      <td>16384Mn</td>\n",
       "      <td>9708.04M</td>\n",
       "      <td>24-09:00:00</td>\n",
       "      <td>20-08:32:27</td>\n",
       "      <td>1</td>\n",
       "      <td>1</td>\n",
       "      <td>production</td>\n",
       "      <td>0:0</td>\n",
       "    </tr>\n",
       "  </tbody>\n",
       "</table>\n",
       "</div>"
      ],
      "text/plain": [
       "        JOBID      STATE               BEGIN                 END    REQMEM  \\\n",
       "1    30853133  COMPLETED 2021-08-06 11:36:09 2021-09-05 11:36:32  262144Mn   \n",
       "2    30858137  COMPLETED 2021-08-06 19:04:39 2021-09-05 19:04:53  204800Mn   \n",
       "3    30935078  COMPLETED 2021-08-09 16:52:51 2021-09-07 20:52:55   65536Mn   \n",
       "4  31364111_2  COMPLETED 2021-08-17 07:45:07 2021-09-10 16:45:24   16384Mn   \n",
       "5  31364111_3  COMPLETED 2021-08-17 07:45:07 2021-09-06 16:17:34   16384Mn   \n",
       "\n",
       "     USEDMEM      REQTIME     USEDTIME  NODES  CPUS     PARTITION EXITCODE  \n",
       "1  20604.62M  30-00:00:00  30-00:00:23      1     1  cgw-platypus      0:0  \n",
       "2  57553.77M  30-00:00:00  30-00:00:14      1    32     cgw-tbi01      0:0  \n",
       "3  20577.96M  29-04:00:00  29-04:00:04      1     8  cgw-platypus      0:0  \n",
       "4   9733.43M  24-09:00:00  24-09:00:17      1     1    production      0:0  \n",
       "5   9708.04M  24-09:00:00  20-08:32:27      1     1    production      0:0  "
      ]
     },
     "execution_count": 8,
     "metadata": {},
     "output_type": "execute_result"
    }
   ],
   "source": [
    "completed = job_record[job_record['STATE'] == 'COMPLETED']\n",
    "\n",
    "completed.head()"
   ]
  },
  {
   "cell_type": "code",
   "execution_count": 24,
   "id": "4a3b1b84",
   "metadata": {},
   "outputs": [
    {
     "data": {
      "text/html": [
       "<div>\n",
       "<style scoped>\n",
       "    .dataframe tbody tr th:only-of-type {\n",
       "        vertical-align: middle;\n",
       "    }\n",
       "\n",
       "    .dataframe tbody tr th {\n",
       "        vertical-align: top;\n",
       "    }\n",
       "\n",
       "    .dataframe thead th {\n",
       "        text-align: right;\n",
       "    }\n",
       "</style>\n",
       "<table border=\"1\" class=\"dataframe\">\n",
       "  <thead>\n",
       "    <tr style=\"text-align: right;\">\n",
       "      <th></th>\n",
       "      <th>JOBID</th>\n",
       "      <th>STATE</th>\n",
       "      <th>BEGIN</th>\n",
       "      <th>END</th>\n",
       "      <th>REQMEM</th>\n",
       "      <th>USEDMEM</th>\n",
       "      <th>REQTIME</th>\n",
       "      <th>USEDTIME</th>\n",
       "      <th>NODES</th>\n",
       "      <th>CPUS</th>\n",
       "      <th>PARTITION</th>\n",
       "      <th>EXITCODE</th>\n",
       "      <th>jobs_per_hour</th>\n",
       "      <th>jobs_per_day</th>\n",
       "    </tr>\n",
       "  </thead>\n",
       "  <tbody>\n",
       "    <tr>\n",
       "      <th>6640577</th>\n",
       "      <td>24460577</td>\n",
       "      <td>COMPLETED</td>\n",
       "      <td>2020-10-01 00:05:55</td>\n",
       "      <td>2020-10-01 00:10:15</td>\n",
       "      <td>4096Mc</td>\n",
       "      <td>868.77M</td>\n",
       "      <td>12:00:00</td>\n",
       "      <td>00:04:20</td>\n",
       "      <td>1</td>\n",
       "      <td>1</td>\n",
       "      <td>production</td>\n",
       "      <td>0:0</td>\n",
       "      <td>1.0</td>\n",
       "      <td>1.0</td>\n",
       "    </tr>\n",
       "    <tr>\n",
       "      <th>6640635</th>\n",
       "      <td>24460647</td>\n",
       "      <td>COMPLETED</td>\n",
       "      <td>2020-10-01 00:10:38</td>\n",
       "      <td>2020-10-01 00:12:58</td>\n",
       "      <td>2000Mn</td>\n",
       "      <td>0.09M</td>\n",
       "      <td>2-00:00:00</td>\n",
       "      <td>00:02:20</td>\n",
       "      <td>1</td>\n",
       "      <td>1</td>\n",
       "      <td>sam</td>\n",
       "      <td>0:0</td>\n",
       "      <td>2.0</td>\n",
       "      <td>2.0</td>\n",
       "    </tr>\n",
       "    <tr>\n",
       "      <th>6640627</th>\n",
       "      <td>24460639</td>\n",
       "      <td>COMPLETED</td>\n",
       "      <td>2020-10-01 00:11:22</td>\n",
       "      <td>2020-10-01 00:13:31</td>\n",
       "      <td>1024Mc</td>\n",
       "      <td>221.10M</td>\n",
       "      <td>00:30:00</td>\n",
       "      <td>00:02:09</td>\n",
       "      <td>1</td>\n",
       "      <td>1</td>\n",
       "      <td>production</td>\n",
       "      <td>0:0</td>\n",
       "      <td>3.0</td>\n",
       "      <td>3.0</td>\n",
       "    </tr>\n",
       "    <tr>\n",
       "      <th>6640651</th>\n",
       "      <td>24460668</td>\n",
       "      <td>COMPLETED</td>\n",
       "      <td>2020-10-01 00:15:16</td>\n",
       "      <td>2020-10-01 00:17:23</td>\n",
       "      <td>2000Mn</td>\n",
       "      <td>0.09M</td>\n",
       "      <td>2-00:00:00</td>\n",
       "      <td>00:02:07</td>\n",
       "      <td>1</td>\n",
       "      <td>1</td>\n",
       "      <td>sam</td>\n",
       "      <td>0:0</td>\n",
       "      <td>4.0</td>\n",
       "      <td>4.0</td>\n",
       "    </tr>\n",
       "    <tr>\n",
       "      <th>6640654</th>\n",
       "      <td>24460671</td>\n",
       "      <td>COMPLETED</td>\n",
       "      <td>2020-10-01 00:17:08</td>\n",
       "      <td>2020-10-01 00:17:53</td>\n",
       "      <td>1024Mc</td>\n",
       "      <td>636.96M</td>\n",
       "      <td>00:30:00</td>\n",
       "      <td>00:00:45</td>\n",
       "      <td>1</td>\n",
       "      <td>1</td>\n",
       "      <td>production</td>\n",
       "      <td>0:0</td>\n",
       "      <td>5.0</td>\n",
       "      <td>5.0</td>\n",
       "    </tr>\n",
       "  </tbody>\n",
       "</table>\n",
       "</div>"
      ],
      "text/plain": [
       "            JOBID      STATE               BEGIN                 END  REQMEM  \\\n",
       "6640577  24460577  COMPLETED 2020-10-01 00:05:55 2020-10-01 00:10:15  4096Mc   \n",
       "6640635  24460647  COMPLETED 2020-10-01 00:10:38 2020-10-01 00:12:58  2000Mn   \n",
       "6640627  24460639  COMPLETED 2020-10-01 00:11:22 2020-10-01 00:13:31  1024Mc   \n",
       "6640651  24460668  COMPLETED 2020-10-01 00:15:16 2020-10-01 00:17:23  2000Mn   \n",
       "6640654  24460671  COMPLETED 2020-10-01 00:17:08 2020-10-01 00:17:53  1024Mc   \n",
       "\n",
       "         USEDMEM     REQTIME  USEDTIME  NODES  CPUS   PARTITION EXITCODE  \\\n",
       "6640577  868.77M    12:00:00  00:04:20      1     1  production      0:0   \n",
       "6640635    0.09M  2-00:00:00  00:02:20      1     1         sam      0:0   \n",
       "6640627  221.10M    00:30:00  00:02:09      1     1  production      0:0   \n",
       "6640651    0.09M  2-00:00:00  00:02:07      1     1         sam      0:0   \n",
       "6640654  636.96M    00:30:00  00:00:45      1     1  production      0:0   \n",
       "\n",
       "         jobs_per_hour  jobs_per_day  \n",
       "6640577            1.0           1.0  \n",
       "6640635            2.0           2.0  \n",
       "6640627            3.0           3.0  \n",
       "6640651            4.0           4.0  \n",
       "6640654            5.0           5.0  "
      ]
     },
     "execution_count": 24,
     "metadata": {},
     "output_type": "execute_result"
    }
   ],
   "source": [
    "completed = completed.sort_values('END')\n",
    "completed['jobs_per_day'] = (completed\n",
    "                               .rolling('1d', on = 'END')['JOBID']\n",
    "                               .count())\n",
    "\n",
    "completed.head()"
   ]
  },
  {
   "cell_type": "code",
   "execution_count": 13,
   "id": "0bcc1b41",
   "metadata": {},
   "outputs": [
    {
     "data": {
      "text/plain": [
       "count    7375084.000000\n",
       "mean        2316.600285\n",
       "std         2737.487903\n",
       "min            1.000000\n",
       "25%          625.000000\n",
       "50%         1249.000000\n",
       "75%         2741.000000\n",
       "max        16177.000000\n",
       "Name: jobs_per_hour, dtype: object"
      ]
     },
     "execution_count": 13,
     "metadata": {},
     "output_type": "execute_result"
    }
   ],
   "source": [
    "completed[\"jobs_per_hour\"].describe().apply(lambda x: format(x, 'f'))"
   ]
  },
  {
   "cell_type": "code",
   "execution_count": 28,
   "id": "e4d538ac",
   "metadata": {},
   "outputs": [
    {
     "data": {
      "text/plain": [
       "count    7375084.000000\n",
       "mean       30072.404841\n",
       "std        22264.435602\n",
       "min            1.000000\n",
       "25%        15332.000000\n",
       "50%        23375.000000\n",
       "75%        37151.000000\n",
       "max       129246.000000\n",
       "Name: jobs_per_day, dtype: object"
      ]
     },
     "execution_count": 28,
     "metadata": {},
     "output_type": "execute_result"
    }
   ],
   "source": [
    "completed[\"jobs_per_day\"].describe().apply(lambda x: format(x, 'f'))"
   ]
  },
  {
   "cell_type": "code",
   "execution_count": 31,
   "id": "58847107",
   "metadata": {},
   "outputs": [
    {
     "data": {
      "image/png": "[encoded data removed]",
      "text/plain": [
       "<Figure size 432x288 with 1 Axes>"
      ]
     },
     "metadata": {
      "needs_background": "light"
     },
     "output_type": "display_data"
    }
   ],
   "source": [
    "sns.histplot(data = completed['jobs_per_hour']);"
   ]
  },
  {
   "cell_type": "code",
   "execution_count": 94,
   "id": "6494aadb",
   "metadata": {},
   "outputs": [
    {
     "data": {
      "image/png": "[encoded data removed]",
      "text/plain": [
       "<Figure size 432x288 with 1 Axes>"
      ]
     },
     "metadata": {
      "needs_background": "light"
     },
     "output_type": "display_data"
    }
   ],
   "source": [
    "sns.histplot(data = completed['jobs_per_day']);"
   ]
  },
  {
   "cell_type": "code",
   "execution_count": null,
   "id": "b44ea26d",
   "metadata": {},
   "outputs": [],
   "source": []
  }
 ],
 "metadata": {
  "kernelspec": {
   "display_name": "Python 3 (ipykernel)",
   "language": "python",
   "name": "python3"
  },
  "language_info": {
   "codemirror_mode": {
    "name": "ipython",
    "version": 3
   },
   "file_extension": ".py",
   "mimetype": "text/x-python",
   "name": "python",
   "nbconvert_exporter": "python",
   "pygments_lexer": "ipython3",
   "version": "3.8.11"
  }
 },
 "nbformat": 4,
 "nbformat_minor": 5
}
