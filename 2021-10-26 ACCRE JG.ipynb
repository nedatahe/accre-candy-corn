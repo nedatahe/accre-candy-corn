{
 "cells": [
  {
   "cell_type": "code",
   "execution_count": 9,
   "id": "ecfdbfdf",
   "metadata": {},
   "outputs": [],
   "source": [
    "import numpy as np\n",
    "import pandas as pd\n",
    "import matplotlib as plt\n",
    "import seaborn as sns\n",
    "from tqdm.notebook import tqdm\n",
    "import datetime"
   ]
  },
  {
   "cell_type": "code",
   "execution_count": 22,
   "id": "8b3533d7",
   "metadata": {},
   "outputs": [],
   "source": [
    "#read in the csv\n",
    "fullsample = pd.read_csv('../accre-candy-corn/accre-scheduler-data-2021/fullsample.csv')\n",
    "#convert BEGIN date column to dtype datetime64[ns]\n",
    "fullsample['BEGIN'] = pd.to_datetime(fullsample['BEGIN'], errors='coerce', infer_datetime_format = True)\n",
    "#convert END date column to dtype datetime64[ns]\n",
    "fullsample['END'] = pd.to_datetime(fullsample['END'], errors='coerce', infer_datetime_format = True)"
   ]
  },
  {
   "cell_type": "code",
   "execution_count": 26,
   "id": "e984b1b5",
   "metadata": {},
   "outputs": [
    {
     "name": "stdout",
     "output_type": "stream",
     "text": [
      "<class 'pandas.core.frame.DataFrame'>\n",
      "RangeIndex: 7395885 entries, 0 to 7395884\n",
      "Data columns (total 12 columns):\n",
      " #   Column     Dtype         \n",
      "---  ------     -----         \n",
      " 0   JOBID      object        \n",
      " 1   STATE      object        \n",
      " 2   BEGIN      datetime64[ns]\n",
      " 3   END        datetime64[ns]\n",
      " 4   REQMEM     object        \n",
      " 5   USEDMEM    object        \n",
      " 6   REQTIME    object        \n",
      " 7   USEDTIME   object        \n",
      " 8   NODES      int64         \n",
      " 9   CPUS       int64         \n",
      " 10  PARTITION  object        \n",
      " 11  EXITCODE   object        \n",
      "dtypes: datetime64[ns](2), int64(2), object(8)\n",
      "memory usage: 677.1+ MB\n"
     ]
    }
   ],
   "source": [
    "fullsample.info()"
   ]
  },
  {
   "cell_type": "code",
   "execution_count": 31,
   "id": "00eded29",
   "metadata": {},
   "outputs": [
    {
     "data": {
      "text/html": [
       "<div>\n",
       "<style scoped>\n",
       "    .dataframe tbody tr th:only-of-type {\n",
       "        vertical-align: middle;\n",
       "    }\n",
       "\n",
       "    .dataframe tbody tr th {\n",
       "        vertical-align: top;\n",
       "    }\n",
       "\n",
       "    .dataframe thead th {\n",
       "        text-align: right;\n",
       "    }\n",
       "</style>\n",
       "<table border=\"1\" class=\"dataframe\">\n",
       "  <thead>\n",
       "    <tr style=\"text-align: right;\">\n",
       "      <th></th>\n",
       "      <th>JOBID</th>\n",
       "      <th>STATE</th>\n",
       "      <th>BEGIN</th>\n",
       "      <th>END</th>\n",
       "      <th>REQMEM</th>\n",
       "      <th>USEDMEM</th>\n",
       "      <th>REQTIME</th>\n",
       "      <th>USEDTIME</th>\n",
       "      <th>NODES</th>\n",
       "      <th>CPUS</th>\n",
       "      <th>PARTITION</th>\n",
       "      <th>EXITCODE</th>\n",
       "    </tr>\n",
       "  </thead>\n",
       "  <tbody>\n",
       "  </tbody>\n",
       "</table>\n",
       "</div>"
      ],
      "text/plain": [
       "Empty DataFrame\n",
       "Columns: [JOBID, STATE, BEGIN, END, REQMEM, USEDMEM, REQTIME, USEDTIME, NODES, CPUS, PARTITION, EXITCODE]\n",
       "Index: []"
      ]
     },
     "execution_count": 31,
     "metadata": {},
     "output_type": "execute_result"
    }
   ],
   "source": [
    "fullsample[fullsample['END'] == 'NaT']"
   ]
  },
  {
   "cell_type": "code",
   "execution_count": 36,
   "id": "7db4416e",
   "metadata": {},
   "outputs": [
    {
     "data": {
      "text/plain": [
       "3766"
      ]
     },
     "execution_count": 36,
     "metadata": {},
     "output_type": "execute_result"
    }
   ],
   "source": [
    "fullsample[fullsample['STATE']== 'FAILED'].value_counts().sum()"
   ]
  },
  {
   "cell_type": "code",
   "execution_count": 37,
   "id": "da0189b0",
   "metadata": {},
   "outputs": [
    {
     "data": {
      "text/plain": [
       "7375084"
      ]
     },
     "execution_count": 37,
     "metadata": {},
     "output_type": "execute_result"
    }
   ],
   "source": [
    "fullsample[fullsample['STATE']== 'COMPLETED'].value_counts().sum()"
   ]
  },
  {
   "cell_type": "code",
   "execution_count": 38,
   "id": "673136f2",
   "metadata": {
    "scrolled": true
   },
   "outputs": [
    {
     "data": {
      "text/plain": [
       "9055"
      ]
     },
     "execution_count": 38,
     "metadata": {},
     "output_type": "execute_result"
    }
   ],
   "source": [
    "fullsample[fullsample['STATE']== 'CANCELLED'].value_counts().sum()"
   ]
  },
  {
   "cell_type": "code",
   "execution_count": 39,
   "id": "844b6213",
   "metadata": {},
   "outputs": [
    {
     "data": {
      "text/plain": [
       "0"
      ]
     },
     "execution_count": 39,
     "metadata": {},
     "output_type": "execute_result"
    }
   ],
   "source": [
    "fullsample[fullsample['STATE']== 'TIMEOUT'].value_counts().sum()"
   ]
  },
  {
   "cell_type": "code",
   "execution_count": 40,
   "id": "45cfbe2b",
   "metadata": {
    "scrolled": true
   },
   "outputs": [
    {
     "data": {
      "text/plain": [
       "0"
      ]
     },
     "execution_count": 40,
     "metadata": {},
     "output_type": "execute_result"
    }
   ],
   "source": [
    "fullsample[fullsample['STATE']== 'PREEMPTED'].value_counts().sum()"
   ]
  },
  {
   "cell_type": "code",
   "execution_count": null,
   "id": "ca214aea",
   "metadata": {},
   "outputs": [],
   "source": []
  }
 ],
 "metadata": {
  "kernelspec": {
   "display_name": "Python 3",
   "language": "python",
   "name": "python3"
  },
  "language_info": {
   "codemirror_mode": {
    "name": "ipython",
    "version": 3
   },
   "file_extension": ".py",
   "mimetype": "text/x-python",
   "name": "python",
   "nbconvert_exporter": "python",
   "pygments_lexer": "ipython3",
   "version": "3.8.8"
  }
 },
 "nbformat": 4,
 "nbformat_minor": 5
}
